{
 "cells": [
  {
   "cell_type": "markdown",
   "id": "ff54573a",
   "metadata": {},
   "source": [
    "<h1 align=center style=\"line-height:200%;font-family:vazir;color:#0099cc\">\n",
    "<font face=\"vazir\" color=\"#0099cc\">\n",
    "هندونه\n",
    "</font>\n",
    "</h1>"
   ]
  },
  {
   "cell_type": "markdown",
   "id": "f7cd7632",
   "metadata": {},
   "source": [
    "<h2 align=right style=\"line-height:200%;font-family:vazir;color:#0099cc\">\n",
    "<font face=\"vazir\" color=\"#0099cc\">\n",
    "مقدمه\n",
    "</font>\n",
    "</h2>\n",
    "\n",
    "<p dir=rtl style=\"direction: rtl;text-align: right;line-height:200%;font-family:vazir;font-size:medium\">\n",
    "<font face=\"vazir\" size=3>\n",
    "        سبحان اخیرا به هندوستان سفر کرده‌ و مجذوب فرهنگ و سبک زندگی هندو‌ها شده‌است. رنگ‌های متنوع لباس‌ها و ماشین‌ هندوها و غذاهای بسیار مختلفی که اهالی هندوستان طبخ می‌کنند، سبحان را آنچنان تحت تاثیر قرار داده‌اند که پس از بازگشت تصمیم گرفت نمایشگاهی تاسیس کند تا علاوه بر نمایش عکس‌هایی که از هندوستان گرفته، اطلاعات جالبی در مورد غذا و ذائقه هندوها هم ارائه کند!\n",
    "<br>\n",
    "چون سبحان نمی‌توانست غذاهای هندی را به ایران بیاورد یا شخصی را از هندوستان دعوت کند تا در ایران غذای هندی بپزد، با گرفتن یک مجموعه داده از دوست هندوی خود (ذی‌شان) و تحلیل آن می‌خواهد نمایشگاه خود را تکمیل کند. به سبحان در تحلیل این مجموعه داده کمک کنید تا بتواند زودتر نمایشگاه خود را شروع کند.\n",
    "</font>\n",
    "</p>"
   ]
  },
  {
   "cell_type": "markdown",
   "id": "59a40eeb",
   "metadata": {},
   "source": [
    "<p dir=rtl style=\"direction: rtl;text-align: right;line-height:200%;font-family:vazir;font-size:medium\">\n",
    "<font face=\"vazir\" size=3>\n",
    "در جدول زیر ستون‌های مجموعه داده‌ای که ذی‌شان به سبحان داده‌است را توضیح می‌دهیم.\n",
    "</font>\n",
    "</p>"
   ]
  },
  {
   "cell_type": "markdown",
   "id": "e3ba1b71",
   "metadata": {},
   "source": [
    "<div dir=rtl style=\"direction: rtl;text-align: right;line-height:200%;font-family:vazir;font-size:medium\">\n",
    "    <font face=\"vazir\" size=3>\n",
    "        \n",
    "| ستون | توضیح |\n",
    "| ----------- | ------|\n",
    "| name|اسم غذاهای هندی|\n",
    "| ingredients| مواد تکشیل دهنده یک غذا|\n",
    "| diet|دارای دو مقدار vegetarian , non vegetarian است که نشان می‌دهد آیا غذا مناسب گیاه‌خواری هست یا نه.|\n",
    "| prep_time| زمانی که طول می‌کشد تا غذا آماده شود. این زمان شامل زمان پخت نمی‌شود. مثلا زمان پوست کندن یا شستن مواد اولیه در این ستون لحاظ شده اند.|\n",
    "| cook_time| زمان پخت یک غذا|\n",
    "| flavor_profile| مزه غذا را نشان می‌دهد. دارای ۴ مقدار spicy برای غذاهای تند، sweet برای غذاهای شیرین، bitter برای غذاهای تلخ و sour برای غذاهای ترش است.|\n",
    "| course| وعده اصلی، میان‌وعده، دسر یا پیش‌غذا بودن یک غذا را نشان می‌دهد.|\n",
    "| state| ایالتی که زادگاه غذاست یا لااقل این غذا در آن‌جا خیلی معروف است.|\n",
    "| region| منطقه‌ای که state (ایالت) در آن واقع شده است.|\n",
    "    \n",
    "</font>\n",
    "</div>"
   ]
  },
  {
   "cell_type": "markdown",
   "id": "683b75aa",
   "metadata": {},
   "source": [
    "<div dir=rtl style=\"direction: rtl;text-align: right;line-height:200%;font-family:vazir;font-size:medium\">\n",
    "<font face=\"vazir\" size=3>\n",
    "این مجموعه داده در فایل food.csv قرار دارد.\n",
    "    <br>\n",
    "    فایل food.csv را در دیتافریم <code>df</code> ذخیره کنید.\n",
    "</font>\n",
    "</div>"
   ]
  },
  {
   "cell_type": "markdown",
   "id": "602e9390",
   "metadata": {},
   "source": [
    "<h2 align=right style=\"line-height:200%;font-family:vazir;color:#0099cc\">\n",
    "<font face=\"vazir\" color=\"#0099cc\">\n",
    "سوالات\n",
    "</font>\n",
    "</h2>"
   ]
  },
  {
   "cell_type": "markdown",
   "id": "8b3a46fe",
   "metadata": {},
   "source": [
    "<p dir=rtl style=\"direction: rtl;text-align: right;line-height:200%;font-family:vazir;font-size:medium\">\n",
    "<font face=\"vazir\" size=3>\n",
    "سبحان از شما می‌خواهد به کمک دیتاست به ۲ سوال پاسخ دهید.\n",
    "<ul dir=rtl style=\"direction: rtl;text-align: right;line-height:200%;font-family:vazir;font-size:medium\">\n",
    "<li>\n",
    "شایعه است هندوها ‌‌‌‌ذائقه تندی دارند و از غداهای تند مزه بیشتر استقبال می‌کنند. سبحان می‌خواهد صحت این شایعه را در این دیتاست بررسی کند. چه نسبتی از کل غذاها تند مزه هستند؟ <b>یعنی حاصل تقسیم تعداد غذاهای تند مزه بر تعداد کل غذاها چند است؟</b> اگر این مقدار، عدد نسبتا بزرگی باشد نشان می‌دهد ادعای گفته شده شایعه نیست و واقعا هندوها به مزه تند علاقه دارند. این عدد را در متغیر <code>spicy_ratio</code> ذخیره کنید.    \n",
    "</li>\n",
    "<li>سبحان می‌خواهد بداند کدام ۱۰ غذا از لحظه شروع آماده‌سازی مخلفات تا آماده سرو شدن، بیشترین زمان را مصرف می‌کنند. برای اینکار باید جمع مدت زمان آماده‌سازی و زمان لازم برای طبخ غذا را در نظر بگیرید. <b>سپس ۱۰ غذایی که بیشترین زمان را مصرف می‌کنند به ترتیب نزولی در قالب یک دیتافریم در متغیر <code>df_most_time_consuming</code> ذخیره کنید</b>.\n",
    "</li>\n",
    "</ul>\n",
    "</font>\n",
    "</p>"
   ]
  },
  {
   "cell_type": "markdown",
   "id": "1ffa077d",
   "metadata": {},
   "source": [
    "<p dir=rtl style=\"direction: rtl;text-align: right;line-height:200%;font-family:vazir;font-size:medium\">\n",
    "<font face=\"vazir\" size=3>\n",
    "    فرمت دیتافریم <code>df_most_time_consuming</code> دقیقا مانند دیتافریم <code>df</code> است. یعنی <code>df_most_time_consuming</code>دارای ۱۰ سطر و ۹ ستون است.\n",
    "    <br>\n",
    "    ترتیب ستون‌های این دیتافریم نیز مانند <code>df</code> است.\n",
    "</font>\n",
    "</p>"
   ]
  },
  {
   "cell_type": "code",
   "execution_count": 54,
   "id": "591f642c",
   "metadata": {},
   "outputs": [],
   "source": [
    "import pandas as pd;\n"
   ]
  },
  {
   "cell_type": "code",
   "execution_count": 55,
   "id": "92b81c5a",
   "metadata": {},
   "outputs": [],
   "source": [
    "df = pd.read_csv(\"./food.csv\")"
   ]
  },
  {
   "cell_type": "code",
   "execution_count": 56,
   "id": "dd0df979",
   "metadata": {},
   "outputs": [],
   "source": [
    "# TODO: calculate ratio of spicy foods!\n",
    "spicy_ratio = df[df.flavor_profile==\"spicy\"].shape[0]/df.shape[0]\n"
   ]
  },
  {
   "cell_type": "code",
   "execution_count": 89,
   "id": "ae1f814c",
   "metadata": {},
   "outputs": [],
   "source": [
    "# TODO: place datefram of most time consuming foods here!\n",
    "df[\"consuming_time\"]=df.apply(lambda row : row['prep_time'] + row['cook_time'], axis=1 )\n",
    "df_most_time_consuming=df.sort_values(by='consuming_time' , ascending=False)[0:10]\n",
    "df.drop(\"consuming_time\" , axis=1,inplace=True)\n",
    "df_most_time_consuming.drop(\"consuming_time\" , axis=1,inplace=True)\n"
   ]
  },
  {
   "cell_type": "markdown",
   "id": "7341ff2d",
   "metadata": {},
   "source": [
    "<h2 align=right style=\"line-height:200%;font-family:vazir;color:#0099cc\">\n",
    "<font face=\"vazir\" color=\"#0099cc\">\n",
    "<b>سلول جواب‌ساز</b>\n",
    "</font>\n",
    "</h2>\n"
   ]
  },
  {
   "cell_type": "code",
   "execution_count": null,
   "id": "5f63b15c",
   "metadata": {},
   "outputs": [],
   "source": [
    "import zipfile\n",
    "import joblib\n",
    "\n",
    "joblib.dump(spicy_ratio,\"spicy_ratio\")\n",
    "df_most_time_consuming.to_csv('df_most_time_consuming.csv', index=False)\n",
    "\n",
    "\n",
    "def compress(file_names):\n",
    "    print(\"File Paths:\")\n",
    "    print(file_names)\n",
    "    # Select the compression mode ZIP_DEFLATED for compression\n",
    "    # or zipfile.ZIP_STORED to just store the file\n",
    "    compression = zipfile.ZIP_DEFLATED\n",
    "    # create the zip file first parameter path/name, second mode\n",
    "    with zipfile.ZipFile(\"result.zip\", mode=\"w\") as zf:\n",
    "        for file_name in file_names:\n",
    "            # Add file to the zip file\n",
    "            # first parameter file to zip, second filename in zip\n",
    "            zf.write('./' + file_name, file_name, compress_type=compression)\n",
    "\n",
    "\n",
    "file_names = [\"spicy_ratio\", \"df_most_time_consuming.csv\", \"hendoone.ipynb\"]\n",
    "compress(file_names)"
   ]
  }
 ],
 "metadata": {
  "kernelspec": {
   "display_name": "qenv",
   "language": "python",
   "name": "qenv"
  },
  "language_info": {
   "codemirror_mode": {
    "name": "ipython",
    "version": 3
   },
   "file_extension": ".py",
   "mimetype": "text/x-python",
   "name": "python",
   "nbconvert_exporter": "python",
   "pygments_lexer": "ipython3",
   "version": "3.9.13"
  }
 },
 "nbformat": 4,
 "nbformat_minor": 5
}
