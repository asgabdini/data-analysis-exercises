{
 "cells": [
  {
   "cell_type": "markdown",
   "metadata": {},
   "source": [
    "\n",
    "<h1 align=center style=\"line-height:200%;font-family:vazir;color:#0099cc\">\n",
    "<font face=\"vazir\" color=\"#0099cc\">\n",
    "سرزمین فلاکت\n",
    "</font>\n",
    "</h1>\n"
   ]
  },
  {
   "cell_type": "markdown",
   "metadata": {},
   "source": [
    "<p dir=rtl style=\"direction: rtl;text-align: right;line-height:200%;font-family:vazir;font-size:medium\">\n",
    "<font face=\"vazir\" size=3>\n",
    "در آمریکا کارتن‌خواب‌های بسیاری وجود دارند و تعداد گرسنگان در هنگام ناهار و شام به ۳۲۸ میلیون نفر می‌رسد. رئیس اتحادیه کارتن‌خواب‌های آمریکا، از حمید خواسته که دمای هوا در هر ساعت از شبانه روز در یکی از پرکارتن‌خواب‌ترین چهار‌راه‌های آمریکا (منطقه‌ی وال استریت) را اندازه بگیرد تا در ساعات سرد به آن‌ها کارتن‌های بیشتری بدهد که یخ نزنند.\n",
    "<br>\n",
    "حمید دست به کار شد. یک هفته، و روزی بیست و چهار بار دمای هوا را در آن چهار راه اندازه گرفت (هر ساعت یک‌بار). \n",
    "او این اطلاعات را در لیست <code>temp_list</code> ذخیره کرده است.\n",
    "<br>\n",
    "<br>\n",
    "<b>\n",
    "توجه کنید که در لیست <code>temp_list</code>، اولین عدد، دمای هوا در ساعت ۰۰:۰۰ و آخرین عدد، دمای هوا در ساعت ۲۳:۰۰ می‌باشد.\n",
    "</b>\n",
    "<br>\n",
    "<br>\n",
    "متاسفانه حمید یک شیاد است و با رشوه این پروژه را دریافت کرده است و حالا با کمک شما می‌خواهد پروژه را به پایان برساند. حمید قول داده که اگر به او کمک کنید، دست از شیادی بردارد و زندگی شرافتمندانه‌ای را شروع کند.\n",
    "\n",
    "</font>\n",
    "</p>\n",
    "\n"
   ]
  },
  {
   "cell_type": "markdown",
   "metadata": {},
   "source": [
    "<h2 align=right style=\"line-height:200%;font-family:vazir;color:#0099cc\">\n",
    "<font face=\"vazir\" color=\"#0099cc\">\n",
    "قسمت اول\n",
    "</font>\n",
    "</h2>\n",
    "<p dir=rtl style=\"direction: rtl;text-align: right;line-height:200%;font-family:vazir;font-size:medium\">\n",
    "<font face=\"vazir\" size=3>\n",
    "لیست <code>temp_list</code> را تبدیل به آرایه نامپای کرده و در متغیری به نام <code>temp</code> ذخیره کنید.\n",
    "</font>\n",
    "</p>\n"
   ]
  },
  {
   "cell_type": "code",
   "execution_count": 35,
   "metadata": {},
   "outputs": [],
   "source": [
    "import numpy as np\n",
    "temp_list = [[-11,-13,-12,-11,-12,-13,-12,0,1,1,2,4,4,5,6,6,7,8,6,6,5,5,4,3],\n",
    "             [3,3,2,1,0,1,1,3,3,4,3,4,4,5,4,4,4,3,4,3,3,2,1,0],\n",
    "             [0,-11,-11,-12,-13,-11,1,1,2,3,4,5,3,2,2,1,1,1,0,0,-11,-11,-12,-13],\n",
    "             [-13,-13,-14,-14,-15,-16,-16,-15,-14,-14,-13,-12,-12,0,0,1,1,2,1,1,0,-11,-11,-11],\n",
    "             [-11,-12,-13,-13,-13,-12,-11,0,0,1,2,2,3,4,3,5,3,2,1,1,2,1,0,1],\n",
    "             [1,1,0,-11,-11,-12,-11,-11,0,1,1,1,2,3,2,3,4,5,6,4,2,2,1,1],\n",
    "             [0,0,1,0,-11,0,1,1,2,3,3,4,3,4,5,8,7,6,6,5,6,6,5,4]]\n",
    "\n",
    "temp = np.array(temp_list)\n",
    "\n"
   ]
  },
  {
   "cell_type": "markdown",
   "metadata": {},
   "source": [
    "\n",
    "<h2 align=right style=\"line-height:200%;font-family:vazir;color:#0099cc\">\n",
    "<font face=\"vazir\" color=\"#0099cc\">\n",
    "قسمت دوم\n",
    "</font>\n",
    "</h2>\n",
    "<p dir=rtl style=\"direction: rtl;text-align: right;line-height:200%;font-family:vazir;font-size:medium\">\n",
    "<font face=\"vazir\" size=3>\n",
    " حمید پس از مشاهده نتایج متوجه شد که دستگاه اندازه‌گیری دما چینی بوده و در دماهای زیر صفر، دما را ۱۰ درجه کمتر ذخیره کرده است (یعنی اگر دما ۱- بوده، دستگاه دما را ۱۱- ثبت کرده است). مقادیری که اشتباه ثبت شده‌اند را اصلاح کنید و کل مقادیر را با همان ترتیب در متغیر <code>temp_correct</code>  ذخیره کنید.\n",
    "\n",
    "</font>\n",
    "</p>\n"
   ]
  },
  {
   "cell_type": "code",
   "execution_count": 51,
   "metadata": {},
   "outputs": [],
   "source": [
    "temp_correct = temp.copy()\n",
    "temp_correct[(temp_correct <0)]+=10\n"
   ]
  },
  {
   "cell_type": "markdown",
   "metadata": {},
   "source": [
    "\n",
    "<h2 align=right style=\"line-height:200%;font-family:vazir;color:#0099cc\">\n",
    "<font face=\"vazir\" color=\"#0099cc\">\n",
    "قسمت سوم\n",
    "</font>\n",
    "</h2>\n",
    "<p dir=rtl style=\"direction: rtl;text-align: right;line-height:200%;font-family:vazir;font-size:medium\">\n",
    "<font face=\"vazir\" size=3>\n",
    "حمید بعدها متوجه شد که  سازمان حمایت از کارتن‌خواب‌ها، دما را به شکل فارنهایت (F°) می‌خواهد اما او، دادگان را با واحد سلسیوس (C°) در اختیار دارد. با استفاده از فرمول زیر دماها را به فارنهایت تبدیل کنید و در متغیر <code>temp_F</code> قرار دهید (از آرایه <code>temp_correct</code> استفاده کنید).\n",
    "\n",
    "</font>\n",
    "</p>\n",
    "\n",
    "\n"
   ]
  },
  {
   "cell_type": "markdown",
   "metadata": {},
   "source": [
    "\n",
    "<p></p>\n",
    "\n",
    "<div dir=rtl id=\"start\" style=\"direction:rtl;line-height:200%;\">\n",
    "\t<font face=\"vazir\" size=4>\n",
    "\t<p></p>\n",
    "    \n",
    "\n",
    "\n",
    "$$ F = 1.8 * C + 32 $$\n",
    "\n",
    "\n",
    "</div>\n"
   ]
  },
  {
   "cell_type": "code",
   "execution_count": 122,
   "metadata": {},
   "outputs": [
    {
     "name": "stdout",
     "output_type": "stream",
     "text": [
      "[[30.2 26.6 28.4 30.2 28.4 26.6 28.4 32.  33.8 33.8 35.6 39.2 39.2 41.\n",
      "  42.8 42.8 44.6 46.4 42.8 42.8 41.  41.  39.2 37.4]\n",
      " [37.4 37.4 35.6 33.8 32.  33.8 33.8 37.4 37.4 39.2 37.4 39.2 39.2 41.\n",
      "  39.2 39.2 39.2 37.4 39.2 37.4 37.4 35.6 33.8 32. ]\n",
      " [32.  30.2 30.2 28.4 26.6 30.2 33.8 33.8 35.6 37.4 39.2 41.  37.4 35.6\n",
      "  35.6 33.8 33.8 33.8 32.  32.  30.2 30.2 28.4 26.6]\n",
      " [26.6 26.6 24.8 24.8 23.  21.2 21.2 23.  24.8 24.8 26.6 28.4 28.4 32.\n",
      "  32.  33.8 33.8 35.6 33.8 33.8 32.  30.2 30.2 30.2]\n",
      " [30.2 28.4 26.6 26.6 26.6 28.4 30.2 32.  32.  33.8 35.6 35.6 37.4 39.2\n",
      "  37.4 41.  37.4 35.6 33.8 33.8 35.6 33.8 32.  33.8]\n",
      " [33.8 33.8 32.  30.2 30.2 28.4 30.2 30.2 32.  33.8 33.8 33.8 35.6 37.4\n",
      "  35.6 37.4 39.2 41.  42.8 39.2 35.6 35.6 33.8 33.8]\n",
      " [32.  32.  33.8 32.  30.2 32.  33.8 33.8 35.6 37.4 37.4 39.2 37.4 39.2\n",
      "  41.  46.4 44.6 42.8 42.8 41.  42.8 42.8 41.  39.2]]\n"
     ]
    }
   ],
   "source": [
    "temp_F = temp_correct.copy()\n",
    "temp_F = 32+temp_correct*1.8\n",
    "print(temp_F)"
   ]
  },
  {
   "cell_type": "markdown",
   "metadata": {},
   "source": [
    "\n",
    "<h2 align=right style=\"line-height:200%;font-family:vazir;color:#0099cc\">\n",
    "<font face=\"vazir\" color=\"#0099cc\">\n",
    "قسمت چهارم\n",
    "</font>\n",
    "</h2>\n",
    "<p dir=rtl style=\"direction: rtl;text-align: right;line-height:200%;font-family:vazir;font-size:medium\">\n",
    "<font face=\"vazir\" size=3>\n",
    "در ادامه از او می خواهند که گرم‌ترین ساعت هر روز به همراه دمای هوا در آن ساعت را به آن‌ها تحویل دهد تا در این ساعت کارتن‌خواب‌ها برای دریافت غذا از کارتن خود خارج شوند.\n",
    "این تحلیل‌ها را بر روی <code>temp_F</code> انجام دهید و نام آرایه حاصل را <code>hottest_times</code> قرار دهید.\n",
    "\n",
    "<br>\n",
    "خروجی یک آرایه به فرم زیر خواهد بود:\n",
    "\n",
    "<table dir=ltr style=\"width:100%\">\n",
    "  <tr>\n",
    "    <th><font face=\"vazir\" size=3>ساعت بیشترین دما در روز اول</th>\n",
    "    <th><font face=\"vazir\" size=3>ساعت بیشترین دما در روز دوم</th>\n",
    "    <th><font face=\"vazir\" size=3>...</th>\n",
    "    <th><font face=\"vazir\" size=3>ساعت بیشترین دما در روز هفتم</th>\n",
    "\n",
    "  </tr>\n",
    "  <tr>\n",
    "    <th><font face=\"vazir\" size=3>دما</th>\n",
    "    <th><font face=\"vazir\" size=3>دما</th>\n",
    "    <th><font face=\"vazir\" size=3>...</th>\n",
    "    <th><font face=\"vazir\" size=3>دما</th>\n",
    "  </tr>\n",
    " \n",
    "\n",
    "</table>\n",
    "</font>\n",
    "</p>"
   ]
  },
  {
   "cell_type": "code",
   "execution_count": 141,
   "metadata": {},
   "outputs": [],
   "source": [
    "hottest_times =np.array( [np.argmax(temp_F,axis=1),temp_F.max(axis=1)])"
   ]
  },
  {
   "cell_type": "markdown",
   "metadata": {},
   "source": [
    "<h2 align=right style=\"line-height:200%;font-family:vazir;color:#0099cc\">\n",
    "<font face=\"vazir\" color=\"#0099cc\">\n",
    "قسمت پنجم\n",
    "</font>\n",
    "</h2>\n",
    "<p dir=rtl style=\"direction: rtl;text-align: right;line-height:200%;font-family:vazir;font-size:medium\">\n",
    "<font face=\"vazir\" size=3>\n",
    "در آخر، روزی که میانگین دما در آن کمترین بوده را با خود دما در متغیر <code>coldest_day</code> ذخیره کنید. قرار است در این روز در کنار غذا به کارتن‌خواب‌ها چای زنجبیلی بدهند تا کمتر یخ بزنند. محاسبات را بر روی <code>temp_F</code> انجام دهید (توجه کنید روز مربوطه هفته در بازه‌ی بین 0 تا 6 قرار دارد). \n",
    "<br>\n",
    "خروجی یک آرایه به شکل زیرخواهد بود:\n",
    "<table dir=ltr style=\"width:100%\">\n",
    "  <tr>\n",
    "    <th><font face=\"vazir\" size=3>روز</th>\n",
    "    <th><font face=\"vazir\" size=3>دما</th>\n",
    "  </tr>\n",
    "</table>\n",
    "\n",
    "</font>\n",
    "</p>\n"
   ]
  },
  {
   "cell_type": "code",
   "execution_count": 116,
   "metadata": {},
   "outputs": [],
   "source": [
    "coldest_day = [np.argmin(np.mean(temp_F,axis=1)),np.min(np.mean(temp_F,axis=1))]\n",
    "\n"
   ]
  },
  {
   "cell_type": "markdown",
   "metadata": {},
   "source": [
    "\n",
    "<h2 align=right style=\"line-height:200%;font-family:vazir;color:#0099cc\">\n",
    "<font face=\"vazir\" color=\"#0099cc\">\n",
    "سلول جواب‌ساز\n",
    "</font>\n",
    "</h2>\n"
   ]
  },
  {
   "cell_type": "code",
   "execution_count": 136,
   "metadata": {},
   "outputs": [
    {
     "name": "stdout",
     "output_type": "stream",
     "text": [
      "File Paths:\n",
      "['answers.npz', 'land_of_misery.ipynb']\n"
     ]
    },
    {
     "name": "stderr",
     "output_type": "stream",
     "text": [
      "c:\\Users\\se7en\\Documents\\quera\\data\\qenv\\lib\\site-packages\\numpy\\lib\\npyio.py:719: VisibleDeprecationWarning: Creating an ndarray from ragged nested sequences (which is a list-or-tuple of lists-or-tuples-or ndarrays with different lengths or shapes) is deprecated. If you meant to do this, you must specify 'dtype=object' when creating the ndarray.\n",
      "  val = np.asanyarray(val)\n"
     ]
    }
   ],
   "source": [
    "import zlib\n",
    "import zipfile\n",
    "\n",
    "np.savez(\"answers.npz\",temp = temp,temp_correct = temp_correct,temp_F = temp_F,hottest_times = hottest_times,coldest_day = coldest_day)\n",
    "\n",
    "\n",
    "def compress(file_names):\n",
    "    print(\"File Paths:\")\n",
    "    print(file_names)\n",
    "    # Select the compression mode ZIP_DEFLATED for compression\n",
    "    # or zipfile.ZIP_STORED to just store the file\n",
    "    compression = zipfile.ZIP_DEFLATED\n",
    "    # create the zip file first parameter path/name, second mode\n",
    "    with zipfile.ZipFile(\"result.zip\", mode=\"w\") as zf:\n",
    "        for file_name in file_names:\n",
    "            # Add file to the zip file\n",
    "            # first parameter file to zip, second filename in zip\n",
    "            zf.write('./' + file_name, file_name, compress_type=compression)\n",
    "\n",
    "\n",
    "file_names = [\"answers.npz\", \"land_of_misery.ipynb\"]\n",
    "compress(file_names)"
   ]
  }
 ],
 "metadata": {
  "interpreter": {
   "hash": "a1a46404003b1888471f66733c8ff43ecbbd22069e04669a0d47e7a2f84d0bb4"
  },
  "kernelspec": {
   "display_name": "qenv",
   "language": "python",
   "name": "qenv"
  },
  "language_info": {
   "codemirror_mode": {
    "name": "ipython",
    "version": 3
   },
   "file_extension": ".py",
   "mimetype": "text/x-python",
   "name": "python",
   "nbconvert_exporter": "python",
   "pygments_lexer": "ipython3",
   "version": "3.9.13"
  }
 },
 "nbformat": 4,
 "nbformat_minor": 4
}
