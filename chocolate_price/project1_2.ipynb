{
 "cells": [
  {
   "cell_type": "markdown",
   "metadata": {},
   "source": [
    "<h1 align=center style=\"line-height:200%;font-family:vazir;color:#0099cc\">\n",
    "<font face=\"vazir\" color=\"#0099cc\">\n",
    "فروش شکلات\n",
    "</font>\n",
    "</h1>\n"
   ]
  },
  {
   "cell_type": "markdown",
   "metadata": {
    "id": "ZSVpqeM224lp"
   },
   "source": [
    "<h2 align=right style=\"line-height:200%;font-family:vazir;color:#0099cc\">\n",
    "<font face=\"vazir\" color=\"#0099cc\">\n",
    "قسمت اول\n",
    "</font>\n",
    "</h2>\n",
    "\n",
    "<p dir=rtl style=\"direction: rtl;text-align: right;line-height:200%;font-family:vazir;font-size:medium\">\n",
    "<font face=\"vazir\" size=3>\n",
    "برای ادامه‌ی مسیر ابتدا، فایل <code>chocolate_preprocessed.csv</code> را که در مرحله‌ی قبل ذخیره کرده‌اید در متغیر <code>df</code> خوانده و مقدار آن را بررسی کنید.\n",
    "</font>\n",
    "</p>\n"
   ]
  },
  {
   "cell_type": "code",
   "execution_count": 9,
   "metadata": {
    "colab": {
     "base_uri": "https://localhost:8080/",
     "height": 223
    },
    "executionInfo": {
     "elapsed": 460,
     "status": "ok",
     "timestamp": 1627307355760,
     "user": {
      "displayName": "Parto Shahroodi",
      "photoUrl": "https://lh3.googleusercontent.com/a-/AOh14GgVRnuIKtxzeAYtLGbbb7NnFc-HXqxuTOJ6OMw7uw=s64",
      "userId": "08853559073941204272"
     },
     "user_tz": -270
    },
    "id": "w-d3otC0CkKH",
    "outputId": "741b4a44-84b1-4f11-ffc0-40e852154f51"
   },
   "outputs": [],
   "source": [
    "import numpy as np\n",
    "import pandas as pd\n",
    "\n",
    "df = pd.read_csv(\"chocolate_preprocessed.csv\")"
   ]
  },
  {
   "cell_type": "markdown",
   "metadata": {
    "id": "NC-uprUp3RPr"
   },
   "source": [
    "<h2 align=right style=\"line-height:200%;font-family:vazir;color:#0099cc\">\n",
    "<font face=\"vazir\" color=\"#0099cc\">\n",
    "قسمت دوم\n",
    "</font>\n",
    "</h2>\n",
    "<p dir=rtl style=\"direction: rtl;text-align: right;line-height:200%;font-family:vazir;font-size:medium\">\n",
    "<font face=\"vazir\" size=3>\n",
    "بعد از این که ویدا چندتا از شکلات‌ها را خورد، متوجه تعداد زیاد آن‌ها و تاریخ انقضای آن‌ها شد که به زودی به پایان می‌رسید، به همین دلیل تصمیم گرفت کسب و کار فروش شکلات‌های خارجی در ایران را راه‌اندازی کند. بعد از کمی تحقیق، معلوم شد قیمت یک شکلات با درصد امتیاز آن توسط متخصصان رابطه‌ی مستقیم دارد. خوشبختانه ویدا این اطلاعات را در مجموعه داده‌ی موجود پیدا کرد اما همان‌طور که می‌بینید این امتیازها به صورت درصد نیستند، پس از شما می‌خواهد تا به وی کمک کنید. مقدار ستون <code>Rating</code> را به شکلی عوض کنید که بالاترین مقدار ۱۰۰ باشد.\n",
    "<br>\n",
    "<b>\n",
    "نکته:\n",
    "</b>\n",
    "    در این قسمت نیازی به روش‌های تغییر مقیاس مانند <i>MinMaxScaler</i> ندارید بلکه کافیست بالاترین مقدار به 100 برسد و سایر مقادیر نیز دقیقاً به همان نسبت تغییر کنند.\n",
    "</font>\n",
    "\n",
    "</p>\n"
   ]
  },
  {
   "cell_type": "code",
   "execution_count": 10,
   "metadata": {
    "colab": {
     "base_uri": "https://localhost:8080/",
     "height": 223
    },
    "executionInfo": {
     "elapsed": 85,
     "status": "ok",
     "timestamp": 1627307356762,
     "user": {
      "displayName": "Parto Shahroodi",
      "photoUrl": "https://lh3.googleusercontent.com/a-/AOh14GgVRnuIKtxzeAYtLGbbb7NnFc-HXqxuTOJ6OMw7uw=s64",
      "userId": "08853559073941204272"
     },
     "user_tz": -270
    },
    "id": "hO7IGL0oDLS-",
    "outputId": "8fa50bdb-62ed-4586-faab-faee60bf4feb"
   },
   "outputs": [],
   "source": [
    "\n",
    "df[\"Rating\"]=df[\"Rating\"]*(100/df[\"Rating\"].max())\n"
   ]
  },
  {
   "cell_type": "markdown",
   "metadata": {
    "id": "XKq_LJE03XQf"
   },
   "source": [
    "<h2 align=right style=\"line-height:200%;font-family:vazir;color:#0099cc\">\n",
    "<font face=\"vazir\" color=\"#0099cc\">\n",
    "قسمت سوم\n",
    "</font>\n",
    "</h2>\n",
    "<p dir=rtl style=\"direction: rtl;text-align: right;line-height:200%;font-family:vazir;font-size:medium\">\n",
    "<font face=\"vazir\" size=3>\n",
    "بعد از کمی تحقیق مشخص شد که قیمت ۱۰۰ گرم کاکائوی خالص با بالاترین کیفیت ۲۵۰۰۰۰ تومان است. برای محاسبه‌ی قیمت هر شکلات ستونی با نام <code>price(100g)</code> به مجموعه داده اضافه کنید که این مقدار را نشان دهد. جهت محاسبه‌ی قیمت جدید می‌توانید از فرمول زیر بهره ببرید:\n",
    "<br>\n",
    "    <br>\n",
    "<center>\n",
    "قیمت صد گرم = درصد کاکائو × امتیاز × ۲۵\n",
    "</center>\n",
    "</font>\n",
    "</p>\n"
   ]
  },
  {
   "cell_type": "code",
   "execution_count": 11,
   "metadata": {
    "colab": {
     "base_uri": "https://localhost:8080/",
     "height": 441
    },
    "executionInfo": {
     "elapsed": 83,
     "status": "ok",
     "timestamp": 1627307356768,
     "user": {
      "displayName": "Parto Shahroodi",
      "photoUrl": "https://lh3.googleusercontent.com/a-/AOh14GgVRnuIKtxzeAYtLGbbb7NnFc-HXqxuTOJ6OMw7uw=s64",
      "userId": "08853559073941204272"
     },
     "user_tz": -270
    },
    "id": "ahOjOTgEENSP",
    "outputId": "1fa3c1e4-0bf4-45f4-b5b3-c38aa88d36b5"
   },
   "outputs": [
    {
     "data": {
      "text/html": [
       "<div>\n",
       "<style scoped>\n",
       "    .dataframe tbody tr th:only-of-type {\n",
       "        vertical-align: middle;\n",
       "    }\n",
       "\n",
       "    .dataframe tbody tr th {\n",
       "        vertical-align: top;\n",
       "    }\n",
       "\n",
       "    .dataframe thead th {\n",
       "        text-align: right;\n",
       "    }\n",
       "</style>\n",
       "<table border=\"1\" class=\"dataframe\">\n",
       "  <thead>\n",
       "    <tr style=\"text-align: right;\">\n",
       "      <th></th>\n",
       "      <th>Company</th>\n",
       "      <th>Specific Bean Origin</th>\n",
       "      <th>Review Date</th>\n",
       "      <th>Cocoa Percent</th>\n",
       "      <th>Company Location</th>\n",
       "      <th>Rating</th>\n",
       "      <th>Bean Type</th>\n",
       "      <th>Broad Bean Origin</th>\n",
       "      <th>price(100g)</th>\n",
       "    </tr>\n",
       "  </thead>\n",
       "  <tbody>\n",
       "    <tr>\n",
       "      <th>0</th>\n",
       "      <td>A. Morin</td>\n",
       "      <td>Agua Grande</td>\n",
       "      <td>2016</td>\n",
       "      <td>63.0</td>\n",
       "      <td>France</td>\n",
       "      <td>75.0</td>\n",
       "      <td>Blend</td>\n",
       "      <td>Sao Tome</td>\n",
       "      <td>118125.0</td>\n",
       "    </tr>\n",
       "    <tr>\n",
       "      <th>1</th>\n",
       "      <td>A. Morin</td>\n",
       "      <td>Kpime</td>\n",
       "      <td>2015</td>\n",
       "      <td>70.0</td>\n",
       "      <td>France</td>\n",
       "      <td>55.0</td>\n",
       "      <td>Blend</td>\n",
       "      <td>Togo</td>\n",
       "      <td>96250.0</td>\n",
       "    </tr>\n",
       "    <tr>\n",
       "      <th>2</th>\n",
       "      <td>A. Morin</td>\n",
       "      <td>Atsane</td>\n",
       "      <td>2015</td>\n",
       "      <td>70.0</td>\n",
       "      <td>France</td>\n",
       "      <td>60.0</td>\n",
       "      <td>Blend</td>\n",
       "      <td>Togo</td>\n",
       "      <td>105000.0</td>\n",
       "    </tr>\n",
       "    <tr>\n",
       "      <th>3</th>\n",
       "      <td>A. Morin</td>\n",
       "      <td>Akata</td>\n",
       "      <td>2015</td>\n",
       "      <td>70.0</td>\n",
       "      <td>France</td>\n",
       "      <td>70.0</td>\n",
       "      <td>Blend</td>\n",
       "      <td>Togo</td>\n",
       "      <td>122500.0</td>\n",
       "    </tr>\n",
       "    <tr>\n",
       "      <th>4</th>\n",
       "      <td>A. Morin</td>\n",
       "      <td>Quilla</td>\n",
       "      <td>2015</td>\n",
       "      <td>70.0</td>\n",
       "      <td>France</td>\n",
       "      <td>70.0</td>\n",
       "      <td>Blend</td>\n",
       "      <td>Peru</td>\n",
       "      <td>122500.0</td>\n",
       "    </tr>\n",
       "    <tr>\n",
       "      <th>5</th>\n",
       "      <td>A. Morin</td>\n",
       "      <td>Carenero</td>\n",
       "      <td>2014</td>\n",
       "      <td>70.0</td>\n",
       "      <td>France</td>\n",
       "      <td>55.0</td>\n",
       "      <td>Criollo</td>\n",
       "      <td>Venezuela</td>\n",
       "      <td>96250.0</td>\n",
       "    </tr>\n",
       "    <tr>\n",
       "      <th>6</th>\n",
       "      <td>A. Morin</td>\n",
       "      <td>Cuba</td>\n",
       "      <td>2014</td>\n",
       "      <td>70.0</td>\n",
       "      <td>France</td>\n",
       "      <td>70.0</td>\n",
       "      <td>Blend</td>\n",
       "      <td>Cuba</td>\n",
       "      <td>122500.0</td>\n",
       "    </tr>\n",
       "    <tr>\n",
       "      <th>7</th>\n",
       "      <td>A. Morin</td>\n",
       "      <td>Sur del Lago</td>\n",
       "      <td>2014</td>\n",
       "      <td>70.0</td>\n",
       "      <td>France</td>\n",
       "      <td>70.0</td>\n",
       "      <td>Criollo</td>\n",
       "      <td>Venezuela</td>\n",
       "      <td>122500.0</td>\n",
       "    </tr>\n",
       "    <tr>\n",
       "      <th>8</th>\n",
       "      <td>A. Morin</td>\n",
       "      <td>Puerto Cabello</td>\n",
       "      <td>2014</td>\n",
       "      <td>70.0</td>\n",
       "      <td>France</td>\n",
       "      <td>75.0</td>\n",
       "      <td>Criollo</td>\n",
       "      <td>Venezuela</td>\n",
       "      <td>131250.0</td>\n",
       "    </tr>\n",
       "    <tr>\n",
       "      <th>9</th>\n",
       "      <td>A. Morin</td>\n",
       "      <td>Pablino</td>\n",
       "      <td>2014</td>\n",
       "      <td>70.0</td>\n",
       "      <td>France</td>\n",
       "      <td>80.0</td>\n",
       "      <td>Blend</td>\n",
       "      <td>Peru</td>\n",
       "      <td>140000.0</td>\n",
       "    </tr>\n",
       "    <tr>\n",
       "      <th>10</th>\n",
       "      <td>A. Morin</td>\n",
       "      <td>Panama</td>\n",
       "      <td>2013</td>\n",
       "      <td>70.0</td>\n",
       "      <td>France</td>\n",
       "      <td>55.0</td>\n",
       "      <td>Blend</td>\n",
       "      <td>Panama</td>\n",
       "      <td>96250.0</td>\n",
       "    </tr>\n",
       "    <tr>\n",
       "      <th>11</th>\n",
       "      <td>A. Morin</td>\n",
       "      <td>Madagascar</td>\n",
       "      <td>2013</td>\n",
       "      <td>70.0</td>\n",
       "      <td>France</td>\n",
       "      <td>60.0</td>\n",
       "      <td>Criollo</td>\n",
       "      <td>Madagascar</td>\n",
       "      <td>105000.0</td>\n",
       "    </tr>\n",
       "    <tr>\n",
       "      <th>12</th>\n",
       "      <td>A. Morin</td>\n",
       "      <td>Brazil</td>\n",
       "      <td>2013</td>\n",
       "      <td>70.0</td>\n",
       "      <td>France</td>\n",
       "      <td>65.0</td>\n",
       "      <td>Blend</td>\n",
       "      <td>Brazil</td>\n",
       "      <td>113750.0</td>\n",
       "    </tr>\n",
       "    <tr>\n",
       "      <th>13</th>\n",
       "      <td>A. Morin</td>\n",
       "      <td>Equateur</td>\n",
       "      <td>2013</td>\n",
       "      <td>70.0</td>\n",
       "      <td>France</td>\n",
       "      <td>75.0</td>\n",
       "      <td>Blend</td>\n",
       "      <td>Ecuador</td>\n",
       "      <td>131250.0</td>\n",
       "    </tr>\n",
       "    <tr>\n",
       "      <th>14</th>\n",
       "      <td>A. Morin</td>\n",
       "      <td>Colombie</td>\n",
       "      <td>2013</td>\n",
       "      <td>70.0</td>\n",
       "      <td>France</td>\n",
       "      <td>55.0</td>\n",
       "      <td>Blend</td>\n",
       "      <td>Colombia</td>\n",
       "      <td>96250.0</td>\n",
       "    </tr>\n",
       "    <tr>\n",
       "      <th>15</th>\n",
       "      <td>A. Morin</td>\n",
       "      <td>Birmanie</td>\n",
       "      <td>2013</td>\n",
       "      <td>70.0</td>\n",
       "      <td>France</td>\n",
       "      <td>60.0</td>\n",
       "      <td>Blend</td>\n",
       "      <td>Burma</td>\n",
       "      <td>105000.0</td>\n",
       "    </tr>\n",
       "    <tr>\n",
       "      <th>16</th>\n",
       "      <td>A. Morin</td>\n",
       "      <td>Papua New Guinea</td>\n",
       "      <td>2013</td>\n",
       "      <td>70.0</td>\n",
       "      <td>France</td>\n",
       "      <td>65.0</td>\n",
       "      <td>Blend</td>\n",
       "      <td>Papua New Guinea</td>\n",
       "      <td>113750.0</td>\n",
       "    </tr>\n",
       "    <tr>\n",
       "      <th>17</th>\n",
       "      <td>A. Morin</td>\n",
       "      <td>Chuao</td>\n",
       "      <td>2013</td>\n",
       "      <td>70.0</td>\n",
       "      <td>France</td>\n",
       "      <td>80.0</td>\n",
       "      <td>Trinitario</td>\n",
       "      <td>Venezuela</td>\n",
       "      <td>140000.0</td>\n",
       "    </tr>\n",
       "    <tr>\n",
       "      <th>18</th>\n",
       "      <td>A. Morin</td>\n",
       "      <td>Piura</td>\n",
       "      <td>2013</td>\n",
       "      <td>70.0</td>\n",
       "      <td>France</td>\n",
       "      <td>65.0</td>\n",
       "      <td>Blend</td>\n",
       "      <td>Peru</td>\n",
       "      <td>113750.0</td>\n",
       "    </tr>\n",
       "    <tr>\n",
       "      <th>19</th>\n",
       "      <td>A. Morin</td>\n",
       "      <td>Chanchamayo Province</td>\n",
       "      <td>2013</td>\n",
       "      <td>70.0</td>\n",
       "      <td>France</td>\n",
       "      <td>70.0</td>\n",
       "      <td>Blend</td>\n",
       "      <td>Peru</td>\n",
       "      <td>122500.0</td>\n",
       "    </tr>\n",
       "  </tbody>\n",
       "</table>\n",
       "</div>"
      ],
      "text/plain": [
       "     Company  Specific Bean Origin  Review Date  Cocoa Percent  \\\n",
       "0   A. Morin           Agua Grande         2016           63.0   \n",
       "1   A. Morin                 Kpime         2015           70.0   \n",
       "2   A. Morin                Atsane         2015           70.0   \n",
       "3   A. Morin                 Akata         2015           70.0   \n",
       "4   A. Morin                Quilla         2015           70.0   \n",
       "5   A. Morin              Carenero         2014           70.0   \n",
       "6   A. Morin                  Cuba         2014           70.0   \n",
       "7   A. Morin          Sur del Lago         2014           70.0   \n",
       "8   A. Morin        Puerto Cabello         2014           70.0   \n",
       "9   A. Morin               Pablino         2014           70.0   \n",
       "10  A. Morin                Panama         2013           70.0   \n",
       "11  A. Morin            Madagascar         2013           70.0   \n",
       "12  A. Morin                Brazil         2013           70.0   \n",
       "13  A. Morin              Equateur         2013           70.0   \n",
       "14  A. Morin              Colombie         2013           70.0   \n",
       "15  A. Morin              Birmanie         2013           70.0   \n",
       "16  A. Morin      Papua New Guinea         2013           70.0   \n",
       "17  A. Morin                 Chuao         2013           70.0   \n",
       "18  A. Morin                 Piura         2013           70.0   \n",
       "19  A. Morin  Chanchamayo Province         2013           70.0   \n",
       "\n",
       "   Company Location  Rating   Bean Type Broad Bean Origin  price(100g)  \n",
       "0            France    75.0       Blend          Sao Tome     118125.0  \n",
       "1            France    55.0       Blend              Togo      96250.0  \n",
       "2            France    60.0       Blend              Togo     105000.0  \n",
       "3            France    70.0       Blend              Togo     122500.0  \n",
       "4            France    70.0       Blend              Peru     122500.0  \n",
       "5            France    55.0     Criollo         Venezuela      96250.0  \n",
       "6            France    70.0       Blend              Cuba     122500.0  \n",
       "7            France    70.0     Criollo         Venezuela     122500.0  \n",
       "8            France    75.0     Criollo         Venezuela     131250.0  \n",
       "9            France    80.0       Blend              Peru     140000.0  \n",
       "10           France    55.0       Blend            Panama      96250.0  \n",
       "11           France    60.0     Criollo        Madagascar     105000.0  \n",
       "12           France    65.0       Blend            Brazil     113750.0  \n",
       "13           France    75.0       Blend           Ecuador     131250.0  \n",
       "14           France    55.0       Blend          Colombia      96250.0  \n",
       "15           France    60.0       Blend             Burma     105000.0  \n",
       "16           France    65.0       Blend  Papua New Guinea     113750.0  \n",
       "17           France    80.0  Trinitario         Venezuela     140000.0  \n",
       "18           France    65.0       Blend              Peru     113750.0  \n",
       "19           France    70.0       Blend              Peru     122500.0  "
      ]
     },
     "execution_count": 11,
     "metadata": {},
     "output_type": "execute_result"
    }
   ],
   "source": [
    "df['price(100g)'] = 25 * df['Rating']*df['Cocoa Percent']\n",
    "df.head(20)"
   ]
  },
  {
   "cell_type": "markdown",
   "metadata": {},
   "source": [
    "<h2 align=right style=\"line-height:200%;font-family:vazir;color:#0099cc\">\n",
    "<font face=\"vazir\" color=\"#0099cc\">\n",
    "بررسی رابطه وزن و قیمت شکلات</font>\n",
    "</h2>\n",
    "<p dir=rtl style=\"direction: rtl;text-align: right;line-height:200%;font-family:vazir;font-size:medium\">\n",
    "<font face=\"vazir\" size=3>\n",
    "در قسمت قبل در واقع از رگرسیون برای تخمین قیمت شکلات ها استفاده شد. در رگرسیون، از ویژگی های موجود برای تخمین مقدار ویژگی ناموجود استفاده می‌شود. رگرسیون می تواند خطی یا غیرخطی باشد. در رگرسیون خطی، رابطه‌ی متغیرها را می‌توان با یک خط راست نشان داد. در این لحظه نیازی نیست با این مفاهیم آشنا باشید. برای بررسی رابطه‌ی وزن و قیمت شکلات، می‌توانیم از ابزارهای مصورسازی استفاده کنیم. در سلول زیر، از متد <code>regplot</code> برای بررسی نمایش رابطه این دو متغیر استفاده می‌کنیم:\n",
    "</font>\n",
    "</p>\n",
    "\n"
   ]
  },
  {
   "cell_type": "code",
   "execution_count": 12,
   "metadata": {},
   "outputs": [
    {
     "data": {
      "text/plain": [
       "<AxesSubplot:xlabel='Rating', ylabel='price(100g)'>"
      ]
     },
     "execution_count": 12,
     "metadata": {},
     "output_type": "execute_result"
    },
    {
     "data": {
      "image/png": "[encoded data removed]",
      "text/plain": [
       "<Figure size 640x480 with 1 Axes>"
      ]
     },
     "metadata": {},
     "output_type": "display_data"
    }
   ],
   "source": [
    "import seaborn as sns\n",
    "sns.set_theme()\n",
    "sns.regplot(x = df.Rating, y = df['price(100g)'])"
   ]
  },
  {
   "cell_type": "markdown",
   "metadata": {},
   "source": [
    "<p dir=rtl style=\"direction: rtl;text-align: right;line-height:200%;font-family:vazir;font-size:medium\">\n",
    "<font face=\"vazir\" size=3>\n",
    "همانطور که در نمودار می‌بینید، بین امتیاز و قیمت کاکائو رابطه‌ای خطی وجود دارد و با این خط، می‌توان قیمت شکلات‌های بدون قیمت را محاسبه کرد.</font>\n",
    "</p>"
   ]
  },
  {
   "cell_type": "markdown",
   "metadata": {
    "id": "Wl-nJBRy3fxe"
   },
   "source": [
    "<h2 align=right style=\"line-height:200%;font-family:vazir;color:#0099cc\">\n",
    "<font face=\"vazir\" color=\"#0099cc\">\n",
    "قسمت چهارم\n",
    "</font>\n",
    "</h2>\n",
    "<p dir=rtl style=\"direction: rtl;text-align: right;line-height:200%;font-family:vazir;font-size:medium\">\n",
    "<font face=\"vazir\" size=3>\n",
    "بعد از محاسبه‌ی قیمت، ویدا متوجه شد که تعداد زیادی از شکلات‌ها تلخ هستند و او علاقه‌ای به شکلات‌های بیشتر از ۷۰ درصد ندارد و از آن‌جایی که این شکلات‌ها گران‌تر هم هستند به این نتیجه رسید که فروش آن‌ها بهترین کار است. بدین منظور به او کمک کنید تا شکلات‌های تلخ را در مجموعه داده‌ی جدیدی با نام <code>dark_chocolates</code> ذخیره کرده و باقی آن‌ها را در مجموعه داده‌ی دیگری با نام <code>good_chocolates</code> بریزید. \n",
    "\n",
    "<ul dir=rtl>\n",
    "  <li>\tویدا شکلات‌های ۷۰ درصد هم دوست دارد و خوب هستند!\n",
    "</li>\n",
    "  <li>\tبرای مرتب شدن شماره‌ی <code>index</code> ها نگاهی به متد <code>reset_index</code> و پارامتر‌های آن بی‌اندازید.\n",
    "</li>\n",
    "</ul>"
   ]
  },
  {
   "cell_type": "code",
   "execution_count": 13,
   "metadata": {
    "colab": {
     "base_uri": "https://localhost:8080/",
     "height": 579
    },
    "executionInfo": {
     "elapsed": 81,
     "status": "ok",
     "timestamp": 1627307356775,
     "user": {
      "displayName": "Parto Shahroodi",
      "photoUrl": "https://lh3.googleusercontent.com/a-/AOh14GgVRnuIKtxzeAYtLGbbb7NnFc-HXqxuTOJ6OMw7uw=s64",
      "userId": "08853559073941204272"
     },
     "user_tz": -270
    },
    "id": "RLS_DDJ8zmkY",
    "outputId": "7999555c-462d-4ff0-999f-3852404b1bca"
   },
   "outputs": [],
   "source": [
    "dark_chocolates = df[df[\"Cocoa Percent\"]>70]\n",
    "good_chocolates = df[df[\"Cocoa Percent\"]<=70]\n"
   ]
  },
  {
   "cell_type": "markdown",
   "metadata": {
    "id": "rj3AaMY-3qzx"
   },
   "source": [
    "<h2 align=right style=\"line-height:200%;font-family:vazir;color:#0099cc\">\n",
    "<font face=\"vazir\" color=\"#0099cc\">\n",
    "قسمت پنجم\n",
    "</font>\n",
    "</h2>\n",
    "<p dir=rtl style=\"direction: rtl;text-align: right;line-height:200%;font-family:vazir;font-size:medium\">\n",
    "<font face=\"vazir\" size=3>\n",
    "نوع دانه‌ی استفاده شده برای ساخت شکلات نیز در مرغوبیت آن تاثیر مستقیم می‌گذارد. برای مثال یکی از بهترین دانه‌های شکلات از نوع <code>Trinitario</code> است. به همین دلیل ویدا تصمیم گرفت قیمت شکلات‌های <b>تلخی</b> که از این دانه استفاده کرده‌اند را ۱۰ درصد افزایش دهد. در متغیر <code>has_Trinitario</code> برای هر شکلات مشخص کنید که آیا در نام دانه‌های مختلف این شکلات اسمی از <code>Trinitario</code> برده شده است یا خیر. و سپس از آن برای افزایش ۱۰ درصدی قیمت این ستون‌ها استفاده کنید.\n",
    "<br>\n",
    "<b>نکته:</b>\n",
    "    توجه داشته باشید که باید شکلات‌هایی را پیدا کنید که در نام دانه‌ی آن‌ها کلمه‌ی <code>Trinitario</code> ظاهر شده باشد و نه اینکه نام آن‌ها دقیقاً معادل با این کلمه باشند. یک راه این است که از تابع <code>str.contains</code> کمک بگیرید.\n",
    "</font>\n",
    "</p>\n"
   ]
  },
  {
   "cell_type": "code",
   "execution_count": 14,
   "metadata": {
    "colab": {
     "base_uri": "https://localhost:8080/",
     "height": 703
    },
    "executionInfo": {
     "elapsed": 84,
     "status": "ok",
     "timestamp": 1627307356781,
     "user": {
      "displayName": "Parto Shahroodi",
      "photoUrl": "https://lh3.googleusercontent.com/a-/AOh14GgVRnuIKtxzeAYtLGbbb7NnFc-HXqxuTOJ6OMw7uw=s64",
      "userId": "08853559073941204272"
     },
     "user_tz": -270
    },
    "id": "VnDeajuc5zQs",
    "outputId": "acab2dbb-85dc-41ba-f8a9-2712901316a2"
   },
   "outputs": [
    {
     "name": "stderr",
     "output_type": "stream",
     "text": [
      "c:\\Users\\se7en\\Documents\\quera\\data\\qenv\\lib\\site-packages\\pandas\\core\\indexing.py:1773: SettingWithCopyWarning: \n",
      "A value is trying to be set on a copy of a slice from a DataFrame.\n",
      "Try using .loc[row_indexer,col_indexer] = value instead\n",
      "\n",
      "See the caveats in the documentation: https://pandas.pydata.org/pandas-docs/stable/user_guide/indexing.html#returning-a-view-versus-a-copy\n",
      "  self._setitem_single_column(ilocs[0], value, pi)\n"
     ]
    }
   ],
   "source": [
    "has_Trinitario = dark_chocolates[\"Bean Type\"].str.contains(\"Trinitario\")\n",
    "dark_chocolates.loc[has_Trinitario, \"price(100g)\"] *= 1.1\n"
   ]
  },
  {
   "cell_type": "markdown",
   "metadata": {
    "id": "TAWqo4yU3vhK"
   },
   "source": [
    "<h2 align=right style=\"line-height:200%;font-family:vazir;color:#0099cc\">\n",
    "<font face=\"vazir\" color=\"#0099cc\">\n",
    "قسمت ششم\n",
    "</font>\n",
    "</h2>\n",
    "<p dir=rtl style=\"direction: rtl;text-align: right;line-height:200%;font-family:vazir;font-size:medium\">\n",
    "<font face=\"vazir\" size=3>\n",
    "اگر ویدا تمام شکلات‌های تلخ را بفروشد، می‌تواند سود خوبی بدست آورد. برای کمک به او، مجموع قیمت شکلات‌های تلخ را در متغیر <code>priceSum</code> ذخیره کنید.\n",
    "</font>\n",
    "</p>\n"
   ]
  },
  {
   "cell_type": "code",
   "execution_count": 20,
   "metadata": {
    "colab": {
     "base_uri": "https://localhost:8080/"
    },
    "executionInfo": {
     "elapsed": 72,
     "status": "ok",
     "timestamp": 1627307356783,
     "user": {
      "displayName": "Parto Shahroodi",
      "photoUrl": "https://lh3.googleusercontent.com/a-/AOh14GgVRnuIKtxzeAYtLGbbb7NnFc-HXqxuTOJ6OMw7uw=s64",
      "userId": "08853559073941204272"
     },
     "user_tz": -270
    },
    "id": "prbbEfzHC2d5",
    "outputId": "bdfbe283-d239-47c5-9dbb-79b5e41136a2"
   },
   "outputs": [],
   "source": [
    "\n",
    "\n",
    "priceSum = dark_chocolates[\"price(100g)\"].sum()\n",
    "\n"
   ]
  },
  {
   "cell_type": "markdown",
   "metadata": {
    "id": "S9c4GQQF30uD"
   },
   "source": [
    "<p dir=rtl style=\"direction: rtl;text-align: right;line-height:200%;font-family:vazir;font-size:medium\">\n",
    "<font face=\"vazir\" size=3>\n",
    "    <br>\n",
    " مجموعه داده‌ی <code>chocolate_price.csv</code> برای ادامه‌ی مسیر استفاده می‌شود.\n",
    "</font>\n",
    "</p>"
   ]
  },
  {
   "cell_type": "markdown",
   "metadata": {},
   "source": [
    "<h2 align=right style=\"line-height:200%;font-family:vazir;color:#0099cc\">\n",
    "<font face=\"vazir\" color=\"#0099cc\">\n",
    "<b>سلول جواب‌ساز</b>\n",
    "</font>\n",
    "</h2>"
   ]
  },
  {
   "cell_type": "code",
   "execution_count": 16,
   "metadata": {
    "id": "mvUkIpKqDsy4"
   },
   "outputs": [
    {
     "name": "stdout",
     "output_type": "stream",
     "text": [
      "File Paths:\n",
      "['answers.npz', 'project1_2.ipynb', 'chocolate_price.csv', 'dark_chocolates.csv']\n"
     ]
    }
   ],
   "source": [
    "import zlib\n",
    "import zipfile\n",
    "\n",
    "\n",
    "def compress(file_names):\n",
    "    print(\"File Paths:\")\n",
    "    print(file_names)\n",
    "    compression = zipfile.ZIP_DEFLATED\n",
    "    with zipfile.ZipFile(\"result.zip\", mode=\"w\") as zf:\n",
    "        for file_name in file_names:\n",
    "            zf.write('./' + file_name, file_name, compress_type=compression)\n",
    "\n",
    "\n",
    "good_chocolates.to_csv('chocolate_price.csv',index = False)\n",
    "dark_chocolates.to_csv('dark_chocolates.csv',index = True)\n",
    "\n",
    "\n",
    "np.savez(\"answers.npz\",has_Trinitario = has_Trinitario,priceSum = priceSum)\n",
    "file_names = [\"answers.npz\", \"project1_2.ipynb\",\"chocolate_price.csv\",\"dark_chocolates.csv\"]\n",
    "compress(file_names)"
   ]
  }
 ],
 "metadata": {
  "colab": {
   "authorship_tag": "ABX9TyM8tfOEJoXtp56mbFxUGCli",
   "collapsed_sections": [],
   "name": "گام دوم.ipynb",
   "provenance": []
  },
  "interpreter": {
   "hash": "243856ee5aa5cfcf7c7fc5e27ace1f0d0cf471c324fa5d741db742eb1bed0a33"
  },
  "kernelspec": {
   "display_name": "qenv",
   "language": "python",
   "name": "qenv"
  },
  "language_info": {
   "codemirror_mode": {
    "name": "ipython",
    "version": 3
   },
   "file_extension": ".py",
   "mimetype": "text/x-python",
   "name": "python",
   "nbconvert_exporter": "python",
   "pygments_lexer": "ipython3",
   "version": "3.9.13"
  }
 },
 "nbformat": 4,
 "nbformat_minor": 4
}
