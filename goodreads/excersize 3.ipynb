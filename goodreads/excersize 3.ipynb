{
 "cells": [
  {
   "cell_type": "markdown",
   "metadata": {
    "id": "ddU9LZWUEiAd"
   },
   "source": [
    "<div dir=rtl style=\"direction:rtl;line-height:300%;\">\n",
    "\t<font face=\"XB Zar\" size=5>\n",
    "\t\t<div align=center>\n",
    "\t\t\t<font face=\"vazir\" size=5>\n",
    "                «قشر کتابخوان»\n",
    "\t\t\t</font>\n",
    "\t\t</div>\n",
    "    </font>\n",
    "</div>"
   ]
  },
  {
   "cell_type": "markdown",
   "metadata": {
    "tags": []
   },
   "source": [
    "<br />\n",
    "<div dir=rtl id=\"start\" style=\"direction:rtl;line-height:200%;\">\n",
    "\t<font face=\"vazir\" size=4>\n",
    "        صابر بعد از این که دید همه‌ی دوستاش کتاب می‌خونن و در مورد اونا صحبت می‌کنن، تصمیم گرفت خودش هم چند تا کتاب بخونه تا حرفی برای گفتن داشته باشه.\n",
    "        <br>\n",
    "        از اون جایی که صابر خودش نمی‌دانست کدام کتاب‌ها بهتر هستند تصمیم گرفت تمام اطلاعات سایت goodreads را دانلود کرده و از شما بخواهد آن‌ها را تحلیل کنید.        \n",
    "    </font>\n",
    "</div>"
   ]
  },
  {
   "cell_type": "code",
   "execution_count": 11,
   "metadata": {},
   "outputs": [],
   "source": [
    "import pandas as pd\n",
    "import numpy as np"
   ]
  },
  {
   "cell_type": "markdown",
   "metadata": {},
   "source": [
    "\n",
    "<br />\n",
    "<div dir=rtl id=\"start\" style=\"direction:rtl;line-height:200%;\">\n",
    "\t<font face=\"vazir\" size=4>\n",
    "        برای کمک به صابر ابتدا ۴ دیتاست موجود در فایل زیپ را لود کنید و در متغیر‌های زیر بریزید\n",
    "    </font>\n",
    "</div>"
   ]
  },
  {
   "cell_type": "code",
   "execution_count": 12,
   "metadata": {},
   "outputs": [],
   "source": [
    "df = pd.read_csv(\"./books_db.csv\")\n",
    "authors = pd.read_csv(\"./authors.csv\")\n",
    "language =pd.read_csv(\"./language.csv\")\n",
    "publisher = pd.read_csv(\"./publisher.csv\")\n",
    "\n",
    "\n"
   ]
  },
  {
   "cell_type": "markdown",
   "metadata": {},
   "source": [
    "\n",
    "<br />\n",
    "<div dir=rtl id=\"start\" style=\"direction:rtl;line-height:200%;\">\n",
    "\t<font face=\"vazir\" size=4>\n",
    "        همان‌طور که می‌بینید در دیتاست اصلی (کتاب)، سه متغیر author, lang و publisher تنها به صورت id هستند\n",
    "        <br>\n",
    "        برای استفاده بهتر از کل اطلاعات، سه دیتابیس دیگر را با توجه به شماره نمایه‌ی آن‌ها به این دیتابیس اضافه کنید\n",
    "    </font>\n",
    "</div>"
   ]
  },
  {
   "cell_type": "code",
   "execution_count": 13,
   "metadata": {},
   "outputs": [
    {
     "data": {
      "text/html": [
       "<div>\n",
       "<style scoped>\n",
       "    .dataframe tbody tr th:only-of-type {\n",
       "        vertical-align: middle;\n",
       "    }\n",
       "\n",
       "    .dataframe tbody tr th {\n",
       "        vertical-align: top;\n",
       "    }\n",
       "\n",
       "    .dataframe thead th {\n",
       "        text-align: right;\n",
       "    }\n",
       "</style>\n",
       "<table border=\"1\" class=\"dataframe\">\n",
       "  <thead>\n",
       "    <tr style=\"text-align: right;\">\n",
       "      <th></th>\n",
       "      <th>bookID</th>\n",
       "      <th>title</th>\n",
       "      <th>average_rating</th>\n",
       "      <th>isbn</th>\n",
       "      <th>isbn13</th>\n",
       "      <th>num_pages</th>\n",
       "      <th>ratings_count</th>\n",
       "      <th>text_reviews_count</th>\n",
       "      <th>publication_date</th>\n",
       "      <th>author_id</th>\n",
       "      <th>lang_id</th>\n",
       "      <th>publisher_id</th>\n",
       "      <th>name_x</th>\n",
       "      <th>code</th>\n",
       "      <th>name_y</th>\n",
       "    </tr>\n",
       "  </thead>\n",
       "  <tbody>\n",
       "    <tr>\n",
       "      <th>0</th>\n",
       "      <td>1</td>\n",
       "      <td>Harry Potter and the Half-Blood Prince (Harry ...</td>\n",
       "      <td>4.57</td>\n",
       "      <td>439785960</td>\n",
       "      <td>9.780440e+12</td>\n",
       "      <td>652</td>\n",
       "      <td>2095690</td>\n",
       "      <td>27591</td>\n",
       "      <td>9/16/2006</td>\n",
       "      <td>0</td>\n",
       "      <td>0</td>\n",
       "      <td>0</td>\n",
       "      <td>J.K. Rowling</td>\n",
       "      <td>eng</td>\n",
       "      <td>Scholastic Inc.</td>\n",
       "    </tr>\n",
       "    <tr>\n",
       "      <th>1</th>\n",
       "      <td>2</td>\n",
       "      <td>Harry Potter and the Order of the Phoenix (Har...</td>\n",
       "      <td>4.49</td>\n",
       "      <td>439358078</td>\n",
       "      <td>9.780440e+12</td>\n",
       "      <td>870</td>\n",
       "      <td>2153167</td>\n",
       "      <td>29221</td>\n",
       "      <td>9/1/2004</td>\n",
       "      <td>0</td>\n",
       "      <td>0</td>\n",
       "      <td>0</td>\n",
       "      <td>J.K. Rowling</td>\n",
       "      <td>eng</td>\n",
       "      <td>Scholastic Inc.</td>\n",
       "    </tr>\n",
       "    <tr>\n",
       "      <th>3</th>\n",
       "      <td>5</td>\n",
       "      <td>Harry Potter and the Prisoner of Azkaban (Harr...</td>\n",
       "      <td>4.56</td>\n",
       "      <td>043965548X</td>\n",
       "      <td>9.780440e+12</td>\n",
       "      <td>435</td>\n",
       "      <td>2339585</td>\n",
       "      <td>36325</td>\n",
       "      <td>5/1/2004</td>\n",
       "      <td>0</td>\n",
       "      <td>0</td>\n",
       "      <td>0</td>\n",
       "      <td>J.K. Rowling</td>\n",
       "      <td>eng</td>\n",
       "      <td>Scholastic Inc.</td>\n",
       "    </tr>\n",
       "    <tr>\n",
       "      <th>2837</th>\n",
       "      <td>10546</td>\n",
       "      <td>The Long-Lost Map (Ulysses Moore #2)</td>\n",
       "      <td>4.00</td>\n",
       "      <td>043977439X</td>\n",
       "      <td>9.780440e+12</td>\n",
       "      <td>272</td>\n",
       "      <td>1693</td>\n",
       "      <td>76</td>\n",
       "      <td>7/1/2006</td>\n",
       "      <td>1280</td>\n",
       "      <td>0</td>\n",
       "      <td>0</td>\n",
       "      <td>Pierdomenico Baccalario</td>\n",
       "      <td>eng</td>\n",
       "      <td>Scholastic Inc.</td>\n",
       "    </tr>\n",
       "    <tr>\n",
       "      <th>6190</th>\n",
       "      <td>23300</td>\n",
       "      <td>The Door to Time (Ulysses Moore  #1)</td>\n",
       "      <td>3.93</td>\n",
       "      <td>439774381</td>\n",
       "      <td>9.780440e+12</td>\n",
       "      <td>239</td>\n",
       "      <td>3099</td>\n",
       "      <td>241</td>\n",
       "      <td>1/1/2006</td>\n",
       "      <td>1280</td>\n",
       "      <td>0</td>\n",
       "      <td>0</td>\n",
       "      <td>Pierdomenico Baccalario</td>\n",
       "      <td>eng</td>\n",
       "      <td>Scholastic Inc.</td>\n",
       "    </tr>\n",
       "  </tbody>\n",
       "</table>\n",
       "</div>"
      ],
      "text/plain": [
       "      bookID                                              title  \\\n",
       "0          1  Harry Potter and the Half-Blood Prince (Harry ...   \n",
       "1          2  Harry Potter and the Order of the Phoenix (Har...   \n",
       "3          5  Harry Potter and the Prisoner of Azkaban (Harr...   \n",
       "2837   10546               The Long-Lost Map (Ulysses Moore #2)   \n",
       "6190   23300               The Door to Time (Ulysses Moore  #1)   \n",
       "\n",
       "      average_rating        isbn        isbn13  num_pages  ratings_count  \\\n",
       "0               4.57   439785960  9.780440e+12        652        2095690   \n",
       "1               4.49   439358078  9.780440e+12        870        2153167   \n",
       "3               4.56  043965548X  9.780440e+12        435        2339585   \n",
       "2837            4.00  043977439X  9.780440e+12        272           1693   \n",
       "6190            3.93   439774381  9.780440e+12        239           3099   \n",
       "\n",
       "      text_reviews_count publication_date  author_id  lang_id  publisher_id  \\\n",
       "0                  27591        9/16/2006          0        0             0   \n",
       "1                  29221         9/1/2004          0        0             0   \n",
       "3                  36325         5/1/2004          0        0             0   \n",
       "2837                  76         7/1/2006       1280        0             0   \n",
       "6190                 241         1/1/2006       1280        0             0   \n",
       "\n",
       "                       name_x code           name_y  \n",
       "0                J.K. Rowling  eng  Scholastic Inc.  \n",
       "1                J.K. Rowling  eng  Scholastic Inc.  \n",
       "3                J.K. Rowling  eng  Scholastic Inc.  \n",
       "2837  Pierdomenico Baccalario  eng  Scholastic Inc.  \n",
       "6190  Pierdomenico Baccalario  eng  Scholastic Inc.  "
      ]
     },
     "execution_count": 13,
     "metadata": {},
     "output_type": "execute_result"
    }
   ],
   "source": [
    "#todo: about 3 lines\n",
    "df=pd.merge(df,authors,left_on=\"author_id\",right_index=True )\n",
    "df=pd.merge(df,language,left_on=\"lang_id\",right_index=True )\n",
    "df=pd.merge(df,publisher,left_on=\"publisher_id\",right_index=True )\n",
    "df.head()"
   ]
  },
  {
   "cell_type": "markdown",
   "metadata": {},
   "source": [
    "\n",
    "<br />\n",
    "<div dir=rtl id=\"start\" style=\"direction:rtl;line-height:200%;\">\n",
    "\t<font face=\"vazir\" size=4>\n",
    "        حال که تمام مقادیر اضافه شده‌اند، نیازی به سه ستون id که به عنوان کلید استفاده کردیم نداریم پس آن‌ها را با استفاده از دستور drop حذف می‌کنیم.\n",
    "        <br>\n",
    "        * در فصل بعد نحوه‌ی کار با این دستور را یاد می‌گیرید.\n",
    "    </font>\n",
    "</div>"
   ]
  },
  {
   "cell_type": "code",
   "execution_count": 14,
   "metadata": {},
   "outputs": [],
   "source": [
    "df.drop(columns = ['author_id', 'lang_id', 'publisher_id'], inplace = True)"
   ]
  },
  {
   "cell_type": "markdown",
   "metadata": {},
   "source": [
    "\n",
    "<br />\n",
    "<div dir=rtl id=\"start\" style=\"direction:rtl;line-height:200%;\">\n",
    "\t<font face=\"vazir\" size=4>\n",
    "        نام ستون‌ها را طوری تغییر دهید که جدول نهایی چیزی شبیه به جدول زیر باشد:\n",
    "    </font>\n",
    "</div>\n",
    "\n"
   ]
  },
  {
   "cell_type": "markdown",
   "metadata": {},
   "source": [
    "<table border=\"1\" class=\"dataframe\">\n",
    "       <thead>\n",
    "         <tr style=\"text-align: right;\">\n",
    "           <th></th>\n",
    "           <th>bookID</th>\n",
    "           <th>title</th>\n",
    "           <th>average_rating</th>\n",
    "           <th>isbn</th>\n",
    "           <th>isbn13</th>\n",
    "           <th>num_pages</th>\n",
    "           <th>ratings_count</th>\n",
    "           <th>text_reviews_count</th>\n",
    "           <th>publication_date</th>\n",
    "           <th>author</th>\n",
    "           <th>lang</th>\n",
    "           <th>publisher</th>\n",
    "         </tr>\n",
    "       </thead>\n",
    "       <tbody>\n",
    "         <tr>\n",
    "           <th>0</th>\n",
    "           <td>1</td>\n",
    "           <td>Harry Potter and the Half-Blood Prince (Harry ...</td>\n",
    "           <td>4.57</td>\n",
    "           <td>439785960</td>\n",
    "           <td>9.780440e+12</td>\n",
    "           <td>652</td>\n",
    "           <td>2095690</td>\n",
    "           <td>27591</td>\n",
    "           <td>9/16/2006</td>\n",
    "           <td>J.K. Rowling</td>\n",
    "           <td>eng</td>\n",
    "           <td>Scholastic Inc.</td>\n",
    "           </tr>\n",
    "    </tbody>\n",
    "    </table>\n",
    "           "
   ]
  },
  {
   "cell_type": "code",
   "execution_count": 15,
   "metadata": {},
   "outputs": [],
   "source": [
    "df.columns=[\"bookID\",\"title\",\"average_rating\",\"isbn\",\"isbn13\",\"num_pages\",\"ratings_count\",\"text_reviews_count\",\"publication_date\",\"author\",\"lang\",\"publisher\"]\n"
   ]
  },
  {
   "cell_type": "markdown",
   "metadata": {},
   "source": [
    "\n",
    "<br />\n",
    "<div dir=rtl id=\"start\" style=\"direction:rtl;line-height:200%;\">\n",
    "\t<font face=\"vazir\" size=4>\n",
    "        صابر اول از همه می‌خواد یک انتشاراتی رو انتخاب کنه تا بره کتاباشو از اون‌جا بخره برای این کار احتیاج داره میانگین امتیاز هرکدوم از انتشاراتی‌ها رو بدونه تا بتونه بهترین ها رو فقط انتخاب کنه.\n",
    "        <br>\n",
    "        برای کمک به صابر، میانگین امتیاز کتاب‌های هر انتشاراتی را حساب کرده و در متغیر زیر بر حسب نام انتشاراتی ذخیره کنید.\n",
    "    </font>\n",
    "</div>\n",
    "\n"
   ]
  },
  {
   "cell_type": "code",
   "execution_count": 22,
   "metadata": {},
   "outputs": [
    {
     "data": {
      "text/plain": [
       "publisher\n",
       "18-Oct                           3.650000\n",
       "1st Book Library                 3.580000\n",
       "1st World Library                4.180000\n",
       "A & C Black (Childrens books)    4.400000\n",
       "A Harvest Book/Harcourt  Inc.    4.070000\n",
       "                                   ...   \n",
       "聯經出版事業股份有限公司                     4.400000\n",
       "英文漢聲出版股份有限公司                     4.220000\n",
       "角川書店 (Kadokawa Shoten)           3.815000\n",
       "講談社                              4.283333\n",
       "集英社                              4.237500\n",
       "Name: average_rating, Length: 2290, dtype: float64"
      ]
     },
     "execution_count": 22,
     "metadata": {},
     "output_type": "execute_result"
    }
   ],
   "source": [
    "publisher_rating = df.groupby(\"publisher\").average_rating.mean()\n",
    "publisher_rating\n"
   ]
  },
  {
   "cell_type": "markdown",
   "metadata": {},
   "source": [
    "\n",
    "<br />\n",
    "<div dir=rtl id=\"start\" style=\"direction:rtl;line-height:200%;\">\n",
    "\t<font face=\"vazir\" size=4>\n",
    "        صابر بعد از این که نگاهی به لیست انتشاراتی‌هایی که برایش انتخاب کرده بودید انداخت به این نتیجه رسید حوصله خوندن این همه کتاب رو نداره و بهتره فقط چند تا اطلاعات کلی در مورد هر نویسنده و انتشاراتی داشته باشه و اونا رو طوری جلوی دوستاش بگه که انگار همشونو خونده!\n",
    "        <br>\n",
    "        برای اولین قدم اون می‌خواد بدونه هر نویسنده چند کتاب با تعداد صفحات مشخصی نوشته. چیزی شبیه به جدول زیر:\n",
    "        <br>\n",
    "    </font>\n",
    "</div>\n"
   ]
  },
  {
   "cell_type": "raw",
   "metadata": {},
   "source": [
    "A.B. Yehoshua          250-499          1\n",
    "                       500-749          1\n",
    "A.D.P. Briggs          250-499          1\n",
    "A.E. Cunningham        <250             1\n",
    "A.J. Jacobs            250-499          1"
   ]
  },
  {
   "cell_type": "markdown",
   "metadata": {},
   "source": [
    "\n",
    "<br />\n",
    "<div dir=rtl id=\"start\" style=\"direction:rtl;line-height:200%;\">\n",
    "\t<font face=\"vazir\" size=4>\n",
    "      برای این کار ابتدا ستونی با نام num_pages_grp به دیتا فریم اضافه کنید که در آن تعداد صفحات کتاب را به صورت گسسته و در بازه‌های زیر نشان دهد.\n",
    "    </font>\n",
    "</div>\n",
    "<250<br>\n",
    "250-499<br>\n",
    "500-749<br>\n",
    "750-999<br>\n",
    ">=1000<br>\n",
    "\n",
    "<div dir=rtl id=\"start\" style=\"direction:rtl;line-height:200%;\">\n",
    "\t<font face=\"vazir\" size=4>\n",
    "      راهنمایی: از تابع np.select استفاده کنید.\n",
    "    </font>\n",
    "</div>"
   ]
  },
  {
   "cell_type": "code",
   "execution_count": 17,
   "metadata": {},
   "outputs": [],
   "source": [
    "df['num_pages_grp']= np.select([df.num_pages>=1000,df.num_pages>=750,df.num_pages>=500,df.num_pages>=250,df.num_pages<250],[\">=1000\",\"750-999\",\"500-749\",\"250-499\",\"<250\"])\n"
   ]
  },
  {
   "cell_type": "markdown",
   "metadata": {},
   "source": [
    "<br />\n",
    "<div dir=rtl id=\"start\" style=\"direction:rtl;line-height:200%;\">\n",
    "\t<font face=\"vazir\" size=4>\n",
    "      مانند جدولی که نشان داده‌شد، تعداد کتاب‌های هر نویسنده برحسب صفحات کتاب را مشخص کنید.\n",
    "    </font>\n",
    "</div>"
   ]
  },
  {
   "cell_type": "code",
   "execution_count": 18,
   "metadata": {},
   "outputs": [
    {
     "data": {
      "text/plain": [
       "author                 num_pages_grp\n",
       "A.B. Yehoshua          250-499          1\n",
       "                       500-749          1\n",
       "A.D.P. Briggs          250-499          1\n",
       "A.E. Cunningham        <250             1\n",
       "A.J. Jacobs            250-499          1\n",
       "                                       ..\n",
       "bell hooks             <250             5\n",
       "Åsne Seierstad         250-499          3\n",
       "Émile Zola             250-499          6\n",
       "                       500-749          3\n",
       "Éric-Emmanuel Schmitt  <250             1\n",
       "Length: 5547, dtype: int64"
      ]
     },
     "execution_count": 18,
     "metadata": {},
     "output_type": "execute_result"
    }
   ],
   "source": [
    "author_page = df.groupby([\"author\",\"num_pages_grp\"]).size()\n",
    "author_page\n"
   ]
  },
  {
   "cell_type": "markdown",
   "metadata": {},
   "source": [
    "<br />\n",
    "<div dir=rtl id=\"start\" style=\"direction:rtl;line-height:200%;\">\n",
    "\t<font face=\"vazir\" size=4>\n",
    "    تبریک!\n",
    "        <br>\n",
    "        شما با موفقیت به پایان فصل پانداس رسیدید و توانستید به صابر برای کتاب‌خوان شدن کمک کنید.\n",
    "    </font>\n",
    "</div>"
   ]
  },
  {
   "cell_type": "markdown",
   "metadata": {},
   "source": [
    "<br />\n",
    "<div dir=rtl id=\"start\" style=\"direction:rtl;line-height:200%;\">\n",
    "\t<font face=\"vazir\" size=4>\n",
    "        در نهایت برای اطمینان از درست بودن پاسخ‌های خود، کد زیر را اجرا کرده و فایل result.zip را برای داوری ارسال کنید.\n",
    "    </font>\n",
    "</div>"
   ]
  },
  {
   "cell_type": "code",
   "execution_count": 19,
   "metadata": {},
   "outputs": [
    {
     "name": "stdout",
     "output_type": "stream",
     "text": [
      "File Paths:\n",
      "['books_result.csv', 'excersize 3.ipynb', 'publisher_rating.csv', 'author_page.csv']\n"
     ]
    }
   ],
   "source": [
    "import zlib\n",
    "import zipfile\n",
    "\n",
    "\n",
    "def compress(file_names):\n",
    "    print(\"File Paths:\")\n",
    "    print(file_names)\n",
    "    compression = zipfile.ZIP_DEFLATED\n",
    "    with zipfile.ZipFile(\"result.zip\", mode=\"w\") as zf:\n",
    "        for file_name in file_names:\n",
    "            zf.write('./' + file_name, file_name, compress_type=compression)\n",
    "\n",
    "\n",
    "df.to_csv('books_result.csv',index = False)\n",
    "publisher_rating.to_csv('publisher_rating.csv',index = True)\n",
    "author_page.to_csv(\"author_page.csv\", index = True)\n",
    "\n",
    "file_names = [\"books_result.csv\", \"excersize 3.ipynb\",\"publisher_rating.csv\",\"author_page.csv\"]\n",
    "compress(file_names)"
   ]
  },
  {
   "cell_type": "markdown",
   "metadata": {
    "id": "YWBTRJvqdG_u"
   },
   "source": [
    "\n",
    "<br />\n",
    "<div dir=rtl id=\"start\" style=\"direction:rtl;line-height:200%;\">\n",
    "\t<font face=\"vazir\" size\n",
    "        سلاموری ارسال کنید.\n",
    "  </p>\n",
    "</div>"
   ]
  }
 ],
 "metadata": {
  "colab": {
   "collapsed_sections": [],
   "name": "exercise1.ipynb",
   "provenance": []
  },
  "kernelspec": {
   "display_name": "qenv",
   "language": "python",
   "name": "qenv"
  },
  "language_info": {
   "codemirror_mode": {
    "name": "ipython",
    "version": 3
   },
   "file_extension": ".py",
   "mimetype": "text/x-python",
   "name": "python",
   "nbconvert_exporter": "python",
   "pygments_lexer": "ipython3",
   "version": "3.9.13"
  }
 },
 "nbformat": 4,
 "nbformat_minor": 4
}
