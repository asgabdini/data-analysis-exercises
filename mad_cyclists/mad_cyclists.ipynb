{
 "cells": [
  {
   "cell_type": "markdown",
   "metadata": {},
   "source": [
    "<h1 align=center style=\"line-height:200%;font-family:vazir;color:#0099cc\">\n",
    "<font face=\"vazir\" color=\"#0099cc\">\n",
    "دوچرخه سواران کم‌طاقت\n",
    "</font>\n",
    "</h1>\n",
    "\n"
   ]
  },
  {
   "cell_type": "markdown",
   "metadata": {},
   "source": [
    "\n",
    "<p dir=rtl style=\"direction: rtl;text-align: right;line-height:200%;font-family:vazir;font-size:medium\">\n",
    "<font face=\"vazir\" size=3>\n",
    "یوسف، صاحب یک کسب و کار اجاره‌ی دوچرخه در پارک همیشه‌سبز (که همیشه هم سبز نیست) است!\n",
    "او بعد از مدتی متوجه شد که در برخی روزها مشتریان دوچرخه‌ها خیلی از دمای هوا شکایت می‌کنند به طوری که به نظر می‌آید میانگین دمایی که مشتریان احساس می‌کنند با دمای واقعی تفاوت دارد. با آن که یوسف بسیار سعی کرد دوچرخه سواران را قانع کند که دمای هوا با آن‌چه آنان تصور می‌کنند متفاوت است، در نهایت تسلیم مشتریان شده و تصمیم گرفت تا خود سیستمی برای پیش‌بینی دمایی که واقعا احساس می‌شود بسازد تا بتواند خدمات بهتری به مشتریان ارائه داده و سود بیشتری بکند.\n",
    "<br>\n",
    "مسلما خود یوسف حوصله‌ی نوشتن این سیستم را ندارد بنابراین از شما برای انجام این کار کمک خواست.\n",
    "    </font>\n",
    "</p>\n"
   ]
  },
  {
   "cell_type": "code",
   "execution_count": 83,
   "metadata": {},
   "outputs": [],
   "source": [
    "import pandas as pd\n",
    "import numpy as np\n",
    "from numpy import nan as NA"
   ]
  },
  {
   "cell_type": "markdown",
   "metadata": {},
   "source": [
    "\n",
    "<p dir=rtl style=\"direction: rtl;text-align: right;line-height:200%;font-family:vazir;font-size:medium\">\n",
    "<font face=\"vazir\" size=3>\n",
    "یوسف بعد از صحبت با دوچرخه سواران متوجه شد که دمایی که احساس می‌کنند معمولا با سرعت باد و رطوبت هوا رابطه‌ی مستقیم دارد؛\n",
    "بنابراین این اطلاعات را نیز در سیستم خود ثبت کرد با بتوانید از آن‌ها استفاده کنید.\n",
    "<br>\n",
    "با اجرای سلول زیر، می‌توانید دیتافریمی که یوسف ثبت کرده است را به طور کامل لود کنید. این دیتافریم شامل ستون‌های زیر است:\n",
    "<br>\n",
    "    </font>\n",
    "</p>\n",
    "\n",
    "<p dir=rtl style=\"direction: rtl;text-align: right;line-height:200%;font-family:vazir;font-size:medium\">\n",
    "<table dir=rtl align = center>\n",
    "\n",
    "<tr>\n",
    "    <th><font face=\"vazir\" size=3>نام ستون</th>\n",
    "    <th><font face=\"vazir\" size=3>توضیح</th>\n",
    "</tr>\n",
    "\n",
    "<tr>\n",
    "    <td><font face=\"vazir\" size=3>cnt</td>\n",
    "    <td><font face=\"vazir\" size=3>تعداد دوچرخه‌هایی که در روز اجاره گرفته شده‌اند</td>\n",
    "</tr>\n",
    "    \n",
    "<tr>\n",
    "    <td><font face=\"vazir\" size=3>t1</td>\n",
    "    <td><font face=\"vazir\" size=3>دمای واقعی اندازه‌گیری شده در آن روزدمای واقعی اندازه‌گیری شده در آن روز</td>\n",
    "</tr>\n",
    "    \n",
    "<tr>\n",
    "    <td><font face=\"vazir\" size=3>t2</td>\n",
    "    <td><font face=\"vazir\" size=3>میانگین دمایی که مشتریان احساس کرده‌اند</td>\n",
    "</tr>\n",
    "    \n",
    "<tr>\n",
    "    <td><font face=\"vazir\" size=3>humidity</td>\n",
    "    <td><font face=\"vazir\" size=3>رطوبت هوا در آن روز</td>\n",
    "</tr>\n",
    "    \n",
    "<tr>\n",
    "    <td><font face=\"vazir\" size=3>wind_speed</td>\n",
    "    <td><font face=\"vazir\" size=3>سرعت باد در آن روز</td>\n",
    "</tr>\n",
    "    \n",
    "<tr>\n",
    "    <td><font face=\"vazir\" size=3>is_weekend</td>\n",
    "    <td><font face=\"vazir\" size=3>آیا آن روز، روز غیر کاری است یا خیر</td>\n",
    "</tr>\n",
    "    \n",
    "<tr>\n",
    "    <td><font face=\"vazir\" size=3>season</td>\n",
    "    <td><font face=\"vazir\" size=3>فصل چندم سال است</td>\n",
    "</tr>\n",
    "\n",
    "</table>\n",
    "</p>\n",
    "\n",
    "    \n"
   ]
  },
  {
   "cell_type": "code",
   "execution_count": 84,
   "metadata": {},
   "outputs": [
    {
     "data": {
      "text/html": [
       "<div>\n",
       "<style scoped>\n",
       "    .dataframe tbody tr th:only-of-type {\n",
       "        vertical-align: middle;\n",
       "    }\n",
       "\n",
       "    .dataframe tbody tr th {\n",
       "        vertical-align: top;\n",
       "    }\n",
       "\n",
       "    .dataframe thead th {\n",
       "        text-align: right;\n",
       "    }\n",
       "</style>\n",
       "<table border=\"1\" class=\"dataframe\">\n",
       "  <thead>\n",
       "    <tr style=\"text-align: right;\">\n",
       "      <th></th>\n",
       "      <th>cnt</th>\n",
       "      <th>t1</th>\n",
       "      <th>t2</th>\n",
       "      <th>humidity</th>\n",
       "      <th>wind_speed</th>\n",
       "      <th>is_weekend</th>\n",
       "      <th>season</th>\n",
       "    </tr>\n",
       "  </thead>\n",
       "  <tbody>\n",
       "    <tr>\n",
       "      <th>0</th>\n",
       "      <td>182</td>\n",
       "      <td>3.0</td>\n",
       "      <td>2.0</td>\n",
       "      <td>93.0</td>\n",
       "      <td>6.0</td>\n",
       "      <td>1.0</td>\n",
       "      <td>3.0</td>\n",
       "    </tr>\n",
       "    <tr>\n",
       "      <th>1</th>\n",
       "      <td>138</td>\n",
       "      <td>3.0</td>\n",
       "      <td>2.5</td>\n",
       "      <td>93.0</td>\n",
       "      <td>5.0</td>\n",
       "      <td>1.0</td>\n",
       "      <td>3.0</td>\n",
       "    </tr>\n",
       "    <tr>\n",
       "      <th>2</th>\n",
       "      <td>134</td>\n",
       "      <td>2.5</td>\n",
       "      <td>2.5</td>\n",
       "      <td>96.5</td>\n",
       "      <td>0.0</td>\n",
       "      <td>1.0</td>\n",
       "      <td>3.0</td>\n",
       "    </tr>\n",
       "    <tr>\n",
       "      <th>3</th>\n",
       "      <td>72</td>\n",
       "      <td>2.0</td>\n",
       "      <td>2.0</td>\n",
       "      <td>100.0</td>\n",
       "      <td>0.0</td>\n",
       "      <td>1.0</td>\n",
       "      <td>3.0</td>\n",
       "    </tr>\n",
       "    <tr>\n",
       "      <th>4</th>\n",
       "      <td>47</td>\n",
       "      <td>2.0</td>\n",
       "      <td>0.0</td>\n",
       "      <td>93.0</td>\n",
       "      <td>6.5</td>\n",
       "      <td>1.0</td>\n",
       "      <td>3.0</td>\n",
       "    </tr>\n",
       "  </tbody>\n",
       "</table>\n",
       "</div>"
      ],
      "text/plain": [
       "   cnt   t1   t2  humidity  wind_speed  is_weekend  season\n",
       "0  182  3.0  2.0      93.0         6.0         1.0     3.0\n",
       "1  138  3.0  2.5      93.0         5.0         1.0     3.0\n",
       "2  134  2.5  2.5      96.5         0.0         1.0     3.0\n",
       "3   72  2.0  2.0     100.0         0.0         1.0     3.0\n",
       "4   47  2.0  0.0      93.0         6.5         1.0     3.0"
      ]
     },
     "execution_count": 84,
     "metadata": {},
     "output_type": "execute_result"
    }
   ],
   "source": [
    "df = pd.read_csv('bikes_borrowed.csv')\n",
    "df.head()"
   ]
  },
  {
   "cell_type": "markdown",
   "metadata": {},
   "source": [
    "<p dir=rtl style=\"direction: rtl;text-align: right;line-height:200%;font-family:vazir;font-size:medium\">\n",
    "<font face=\"vazir\" size=3>\n",
    "    نحوه‌ی کار با تابع <code>read_csv</code> را در درسنامه‌های آینده یاد می‌گیرید؛ اما به استفاده از <code>head</code> در این کد دقت کنید؛ همان‌طور که گفتیم، این تابع به طور پیش‌فرض، ۵ داده‌ی بالای دیتافریم را به ما نشان می‌دهد.\n",
    "</font>\n",
    "</p>"
   ]
  },
  {
   "cell_type": "markdown",
   "metadata": {},
   "source": [
    "<h2 align=right style=\"line-height:200%;font-family:vazir;color:#0099cc\">\n",
    "<font face=\"vazir\" color=\"#0099cc\">\n",
    "قسمت اول\n",
    "    </font>\n",
    "</h2>\n"
   ]
  },
  {
   "cell_type": "markdown",
   "metadata": {},
   "source": [
    "<p dir=rtl style=\"direction: rtl;text-align: right;line-height:200%;font-family:vazir;font-size:medium\">\n",
    "<font face=\"vazir\" size=3>\n",
    "    همان‌طور که می‌بینید نام ستون‌های <code>t1</code> و <code>t2</code> خیلی کلی است و در مورد مقدار آن‌ها نکته جالبی را نشان نمی‌دهد به همین دلیل خوب است تا آن‌ها را <code>rename</code> کنیم.\n",
    "<br>\n",
    "    در سلول زیر، نام ستون <code>t1</code> را به <code>t_real</code> و نام ستون <code>t2</code> را به <code>t_feels_like</code> تغییر دهید.\n",
    "<br>\n",
    "    برای تغییر نام نمایه‌ها یا ستون‌ها می‌توانیم از تابع <code>rename</code> مانند کد زیر استفاده کنیم:\n",
    "<br>\n",
    "</font>\n",
    "</p>\n",
    "\n",
    "`df.rename(columns={\"col1\": \"new_col1\", \"col2\": \"new_col2\"} , inplace = True)`\n"
   ]
  },
  {
   "cell_type": "code",
   "execution_count": 85,
   "metadata": {},
   "outputs": [],
   "source": [
    "df.rename(columns={\"t1\":\"t_real\",\"t2\":\"t_feels_like\"},inplace=True)\n"
   ]
  },
  {
   "cell_type": "markdown",
   "metadata": {},
   "source": [
    "<p dir=rtl style=\"direction: rtl;text-align: right;line-height:200%;font-family:vazir;font-size:medium\">\n",
    "<font face=\"vazir\" size=3>\n",
    "    به پارامتر <code>inplace = True</code> دقت کنید؛ وجود این پارامتر باعث می‌شود که تابع <code>rename</code>، به جای آن که دیتافریم را کپی کرده و بعد از اعمال تغییرات خروجی دهد، تغییرات را مستقیما روی دیتافریم اصلی اعمال کند.\n",
    "<br>\n",
    "برای درک بهتر این موضوع می‌توانید با حذف این پارامتر متوجه تغییر در نحوه‌ی کارکرد این تابع بشوید.\n",
    "</font>\n",
    "</p>\n"
   ]
  },
  {
   "cell_type": "markdown",
   "metadata": {},
   "source": [
    "<h2 align=right style=\"line-height:200%;font-family:vazir;color:#0099cc\">\n",
    "<font face=\"vazir\" color=\"#0099cc\">\n",
    "قسمت دوم\n",
    "    </font>\n",
    "</h2>\n",
    "\n"
   ]
  },
  {
   "cell_type": "markdown",
   "metadata": {},
   "source": [
    "<p dir=rtl style=\"direction: rtl;text-align: right;line-height:200%;font-family:vazir;font-size:medium\">\n",
    "<font face=\"vazir\" size=3>\n",
    "از آن‌جایی که اغلب روز‌هایی که دوچرخه سواران به هوا اعتراض می‌کنند روز‌های بادی است، یوسف تصمیم گرفت که محاسبات را فقط برای روز‌هایی که سرعت باد بیشتر از ۱۰ است انجام دهد.\n",
    "<br>\n",
    "    بنابراین در دیتافریم <code>windy_days_df</code>، تنها داده‌هایی را ذخیره کنید که سرعت باد، بزرگتر از ۱۰ باشد.\n",
    "</font>\n",
    "</p>"
   ]
  },
  {
   "cell_type": "code",
   "execution_count": 86,
   "metadata": {},
   "outputs": [],
   "source": [
    "windy_days_df = df[df[\"wind_speed\"]>10]\n"
   ]
  },
  {
   "cell_type": "markdown",
   "metadata": {},
   "source": [
    "<h2 align=right style=\"line-height:200%;font-family:vazir;color:#0099cc\">\n",
    "<font face=\"vazir\" color=\"#0099cc\">\n",
    "قسمت سوم\n",
    "    </font>\n",
    "</h2>\n"
   ]
  },
  {
   "cell_type": "markdown",
   "metadata": {},
   "source": [
    "<p dir=rtl style=\"direction: rtl;text-align: right;line-height:200%;font-family:vazir;font-size:medium\">\n",
    "<font face=\"vazir\" size=3>\n",
    "برای انجام باقی محاسبات فقط ستون‌های مخصوص دما را نیاز داریم؛ پس برای دیتافریم <code>windy_days_df</code>، ستون‌های <code>humidity</code> , <code>t_feels_like</code> , <code>t_real</code> و <code>wind_speed</code> را ذخیره کرده و باقی ستون‌ها را نادیده بگیرید.\n",
    "\n",
    "</font>\n",
    "</p>"
   ]
  },
  {
   "cell_type": "code",
   "execution_count": 87,
   "metadata": {},
   "outputs": [],
   "source": [
    "windy_days_df = windy_days_df[[\"t_real\",\"t_feels_like\",\"humidity\",\"wind_speed\"]]\n"
   ]
  },
  {
   "cell_type": "markdown",
   "metadata": {},
   "source": [
    "<p dir=rtl style=\"direction: rtl;text-align: right;line-height:200%;font-family:vazir;font-size:medium\">\n",
    "<font face=\"vazir\" size=3>\n",
    "در مراحل بعدی می‌خواهیم برخی مقادیر دیتافریم را تغییر دهیم پس برای آن‌که دیتافریم اصلی و <code>windy_days_df</code> تغییر نکنند لازم است تا از تابع <code>copy</code> استفاده کنیم.\n",
    "<br>\n",
    "به طور کلی استفاده از مساوی برای دیتافریم‌ها در پانداز مانند نامپای عمل می‌کنند و تنها یک رفرنس جدید به همان دیتافریم اضافه می‌شود بنابراین تغییر دادن هر کدام از دیتافریم‌ها باعث تغییر دیگری نیز می‌شود.\n",
    "<br>\n",
    "    استفاده از تابع <code>copy</code> این قابلیت را برای ما ایجاد می‌کند که یک کپی از دیتافریم اولیه دریافت کنیم و تغییر یکی تاثیری روی دیگری نداشته باشد.\n",
    "<br>\n",
    "در ادامه این ویژگی را بیشتر بررسی می‌کنیم اما فعلا برای ادامه، سلول زیر را اجرا کنید.\n",
    "</font>\n",
    "</p>"
   ]
  },
  {
   "cell_type": "code",
   "execution_count": 95,
   "metadata": {},
   "outputs": [],
   "source": [
    "temperature_df = windy_days_df.copy()"
   ]
  },
  {
   "cell_type": "markdown",
   "metadata": {},
   "source": [
    "<h2 align=right style=\"line-height:200%;font-family:vazir;color:#0099cc\">\n",
    "<font face=\"vazir\" color=\"#0099cc\">\n",
    "قسمت چهارم\n",
    "    </font>\n",
    "</h2>\n",
    "\n"
   ]
  },
  {
   "cell_type": "markdown",
   "metadata": {},
   "source": [
    "<p dir=rtl style=\"direction: rtl;text-align: right;line-height:200%;font-family:vazir;font-size:medium\">\n",
    "<font face=\"vazir\" size=3>\n",
    "یوسف برای انجام تحلیل‌های خود نیاز دارد بداند که یک روز نسبت به بازده کلی دما چقدر گرم است. برای این کار مراحل زیر را به ترتیب انجام دهید:\n",
    "<br>\n",
    "راهنمایی: تمام عملیات این مرحله را می‌توانید با توابع نامپای انجام دهید. همان طور که گفتیم پانداز بر اساس نامپای نوشته شده است پس تمامی عملیات نامپای در این‌جا هم قابل استفاده است.\n",
    "<br>\n",
    "    ۱- در متغیر <code>t_max</code> مقدار ماکزیمم ستون <code>t_real</code> را ذخیره کنید.\n",
    "<br>\n",
    "    ۲- در متغیر <code>t_min</code> مقدار مینیمم ستون <code>t_real</code> را ذخیره کنید.\n",
    "<br>\n",
    "۳- در خط سوم، ستون جدیدی به دیتافریم اضافه می‌کنیم. در این ستون از فرمول زیر برای نرمال سازی و پیدا کردن دمای نسبی استفاده کنید.\n",
    "<br>\n",
    "</font>\n",
    "</p>\n",
    "\n",
    "‍‍`((temp - min) / (max - min)) * 100`"
   ]
  },
  {
   "cell_type": "code",
   "execution_count": 96,
   "metadata": {},
   "outputs": [],
   "source": [
    "#using numpy on df\n",
    "t_max = np.max(temperature_df[\"t_real\"]) \n",
    "t_min = np.min(temperature_df[\"t_real\"])  \n",
    "temperature_df['t_percent'] = ((temperature_df[\"t_real\"] - t_min) / (t_max - t_min)) * 100\n",
    "\n"
   ]
  },
  {
   "cell_type": "markdown",
   "metadata": {},
   "source": [
    "<h2 align=right style=\"line-height:200%;font-family:vazir;color:#0099cc\">\n",
    "<font face=\"vazir\" color=\"#0099cc\">\n",
    "قسمت پنچم\n",
    "    </font>\n",
    "</h2>\n",
    "\n"
   ]
  },
  {
   "cell_type": "markdown",
   "metadata": {},
   "source": [
    "<p dir=rtl style=\"direction: rtl;text-align: right;line-height:200%;font-family:vazir;font-size:medium\">\n",
    "<font face=\"vazir\" size=3>\n",
    "حال برای پیش‌بینی دمایی که احساس می‌شود مقدار این ستون را عوض می‌کنیم.\n",
    "<br>\n",
    "برای مقداردهی این ستون از فرمول زیر استفاده کنید:\n",
    "<br>\n",
    "</font>\n",
    "</p>\n",
    "\n",
    "`t_feels_like = t_real + (humidity * t_real)/1000 - (wind_speed)/10 -2` \n",
    "<br>\n",
    "<p dir=rtl style=\"direction: rtl;text-align: right;line-height:200%;font-family:vazir;font-size:medium\">\n",
    "<font face=\"vazir\" size=3>\n",
    "یادآوری: هر ستون دیتافریم را می‌توانید مانند یک سری جدا کرده و مانند یک ارایه‌ی نامپای با آن رفتار کنید.\n",
    "</font>\n",
    "</p>"
   ]
  },
  {
   "cell_type": "code",
   "execution_count": 98,
   "metadata": {},
   "outputs": [],
   "source": [
    "df['t_feels_like'] =  df.t_real + (df.humidity * df.t_real)/1000 - (df.wind_speed)/10 -2\n",
    "\n"
   ]
  },
  {
   "cell_type": "markdown",
   "metadata": {},
   "source": [
    "<p dir=rtl style=\"direction: rtl;text-align: right;line-height:200%;font-family:vazir;font-size:medium\">\n",
    "<font face=\"vazir\" size=3>\n",
    "    همان‌طور که می‌بینید مقدار ستون <code>t_feels_like</code> تغییر کرده و دیگر مانند آن‌چه در دیتافریم اولیه داشتیم نیست. حال بیایید کارکرد تابع ‍<code>copy</code> را بررسی کنیم. اگر تمام مراحل را درست پیش رفته باشید، مقدار ستون <code>t_feels_like</code> در دیتافریم ‍‍<code>windy_days_df</code> نباید تغییر کرده باشد. برای اطمینان از این موضوع با استفاده از تابع <code>head</code> در کد بالا می‌توانید مقادیر این دو دیتافریم را مقایسه کنید.\n",
    "\n",
    "</font>\n",
    "</p>"
   ]
  },
  {
   "cell_type": "markdown",
   "metadata": {},
   "source": [
    "<h2 align=right style=\"line-height:200%;font-family:vazir;color:#0099cc\">\n",
    "<font face=\"vazir\" color=\"#0099cc\">\n",
    "قسمت ششم\n",
    "    </font>\n",
    "</h2>\n",
    "\n"
   ]
  },
  {
   "cell_type": "markdown",
   "metadata": {},
   "source": [
    "<p dir=rtl style=\"direction: rtl;text-align: right;line-height:200%;font-family:vazir;font-size:medium\">\n",
    "<font face=\"vazir\" size=3>\n",
    "در نهایت یوسف که به پیش بینی اولیه‌ای از دمایی که مشتریان احساس خواهند کرد رسید می‌خواهد دقت این تابع را بررسی کند. برای این کار از فرمول mean_absolut_error یا MAE استفاده می‌کنیم که به صورت زیر است:\n",
    "<br>\n",
    "</font>\n",
    "</p>\n",
    "\n",
    "`np.mean(np.abs(temperature_df['t_feels_like'] - windy_days_df['t_feels_like']))`\n",
    "<br>\n",
    "<p dir=rtl style=\"direction: rtl;text-align: right;line-height:200%;font-family:vazir;font-size:medium\">\n",
    "<font face=\"vazir\" size=3>\n",
    "    این مقدار را محاسبه و در متغیر <code>diffrence</code> ذخیره کنید.\n",
    "</font>\n",
    "</p>"
   ]
  },
  {
   "cell_type": "code",
   "execution_count": 91,
   "metadata": {},
   "outputs": [],
   "source": [
    "diffrence = np.mean(np.abs(temperature_df['t_feels_like'] - windy_days_df['t_feels_like']))\n"
   ]
  },
  {
   "cell_type": "markdown",
   "metadata": {},
   "source": [
    "<h2 align=right style=\"line-height:200%;font-family:vazir;color:#0099cc\">\n",
    "<font face=\"vazir\" color=\"#0099cc\">\n",
    "قسمت هفتم\n",
    "    </font>\n",
    "</h2>\n"
   ]
  },
  {
   "cell_type": "markdown",
   "metadata": {},
   "source": [
    "<p dir=rtl style=\"direction: rtl;text-align: right;line-height:200%;font-family:vazir;font-size:medium\">\n",
    "<font face=\"vazir\" size=3>\n",
    "    در این تمرین با تابع <code>head(n)</code> کار کردیم اما بیایید به بررسی عمیق‌تر این تابع بپردازیم.\n",
    "<br>\n",
    "به طور کلی این تابع برای نمایش فقط استفاده نمی‌شود بلکه اعمال آن روی دیتافریم یک کپی از n داده‌ی اول آن را برمی‌گرداند و می‌توان آن را در دیتافریم‌های دیگری ذخیره کرد.\n",
    "<br>\n",
    "    در دیتافریم زیر، ۱۰۰ داده‌ی اول دیتافریم <code>temperature_df</code> را ذخیره کنید.\n",
    "</font>\n",
    "</p>"
   ]
  },
  {
   "cell_type": "code",
   "execution_count": 92,
   "metadata": {},
   "outputs": [],
   "source": [
    "final_df = temperature_df.head(100)"
   ]
  },
  {
   "cell_type": "markdown",
   "metadata": {},
   "source": [
    "<h2 align=right style=\"line-height:200%;font-family:vazir;color:#0099cc\">\n",
    "<font face=\"vazir\" color=\"#0099cc\">\n",
    "<b>سلول جواب‌ساز</b>\n",
    "</font>\n",
    "</h2>"
   ]
  },
  {
   "cell_type": "code",
   "execution_count": 97,
   "metadata": {},
   "outputs": [
    {
     "name": "stdout",
     "output_type": "stream",
     "text": [
      "File Paths:\n",
      "['bikes.csv', 'mad_cyclists.ipynb', 'windy_days.csv', 'temperature.csv', 'final.csv', 'answers.npz']\n"
     ]
    }
   ],
   "source": [
    "import zlib\n",
    "import zipfile\n",
    "\n",
    "np.savez(\"answers.npz\",diffrence = diffrence, t_min = t_min , t_max = t_max)\n",
    "\n",
    "def compress(file_names):\n",
    "    print(\"File Paths:\")\n",
    "    print(file_names)\n",
    "    compression = zipfile.ZIP_DEFLATED\n",
    "    with zipfile.ZipFile(\"result.zip\", mode=\"w\") as zf:\n",
    "        for file_name in file_names:\n",
    "            zf.write('./' + file_name, file_name, compress_type=compression)\n",
    "\n",
    "\n",
    "df.to_csv('bikes.csv',index = True)\n",
    "windy_days_df.to_csv('windy_days.csv',index = True)\n",
    "temperature_df.to_csv(\"temperature.csv\", index = True)\n",
    "final_df.to_csv(\"final.csv\", index = True)\n",
    "\n",
    "file_names = [\"bikes.csv\", \"mad_cyclists.ipynb\",\"windy_days.csv\",\"temperature.csv\", \"final.csv\", \"answers.npz\"]\n",
    "compress(file_names)"
   ]
  },
  {
   "cell_type": "code",
   "execution_count": null,
   "metadata": {},
   "outputs": [],
   "source": []
  }
 ],
 "metadata": {
  "colab": {
   "collapsed_sections": [],
   "name": "exercise1.ipynb",
   "provenance": []
  },
  "kernelspec": {
   "display_name": "Python 3 (ipykernel)",
   "language": "python",
   "name": "python3"
  },
  "language_info": {
   "codemirror_mode": {
    "name": "ipython",
    "version": 3
   },
   "file_extension": ".py",
   "mimetype": "text/x-python",
   "name": "python",
   "nbconvert_exporter": "python",
   "pygments_lexer": "ipython3",
   "version": "3.9.6"
  }
 },
 "nbformat": 4,
 "nbformat_minor": 4
}
